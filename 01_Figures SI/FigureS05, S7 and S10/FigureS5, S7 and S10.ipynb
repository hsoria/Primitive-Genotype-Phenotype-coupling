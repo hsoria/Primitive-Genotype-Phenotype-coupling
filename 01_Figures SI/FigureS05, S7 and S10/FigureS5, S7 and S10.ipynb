{
 "cells": [
  {
   "cell_type": "markdown",
   "metadata": {},
   "source": [
    "# Figures S5 and S7 and S10\n",
    "\n",
    "\n",
    "\n",
    "\n",
    "\n",
    "\n",
    "\n"
   ]
  },
  {
   "cell_type": "code",
   "execution_count": 55,
   "metadata": {},
   "outputs": [],
   "source": [
    "\n",
    "from scipy.integrate import odeint, solve_ivp, lsoda\n",
    "from scipy.optimize import minimize\n",
    "from scipy.optimize import curve_fit\n",
    "from lmfit import Parameters, minimize, Model, report_fit, conf_interval\n",
    "from sklearn.metrics import mean_squared_error\n",
    "import numdifftools\n",
    "from PIL import Image\n",
    "from sklearn.metrics import r2_score\n",
    "import numpy as np\n",
    "from scipy.integrate import odeint\n",
    "import matplotlib.pyplot as plt\n",
    "import pandas as pd\n",
    "import seaborn as sns\n",
    "\n",
    "\n",
    "\n",
    "import scipy.optimize\n",
    "from matplotlib.ticker import FormatStrFormatter\n",
    "import matplotlib.ticker as tkr\n",
    "import scipy.stats as st\n",
    "from scipy.stats import scoreatpercentile\n",
    "\n",
    "\n",
    "\n",
    "import glob\n"
   ]
  },
  {
   "cell_type": "markdown",
   "metadata": {},
   "source": [
    "# Asthetics"
   ]
  },
  {
   "cell_type": "code",
   "execution_count": 56,
   "metadata": {},
   "outputs": [
    {
     "data": {
      "text/html": [
       "<svg  width=\"550\" height=\"55\"><rect x=\"0\" y=\"0\" width=\"55\" height=\"55\" style=\"fill:#56b4e9;stroke-width:2;stroke:rgb(255,255,255)\"/><rect x=\"55\" y=\"0\" width=\"55\" height=\"55\" style=\"fill:#009e73;stroke-width:2;stroke:rgb(255,255,255)\"/><rect x=\"110\" y=\"0\" width=\"55\" height=\"55\" style=\"fill:#cc79a7;stroke-width:2;stroke:rgb(255,255,255)\"/><rect x=\"165\" y=\"0\" width=\"55\" height=\"55\" style=\"fill:#999999;stroke-width:2;stroke:rgb(255,255,255)\"/><rect x=\"220\" y=\"0\" width=\"55\" height=\"55\" style=\"fill:#e69f00;stroke-width:2;stroke:rgb(255,255,255)\"/><rect x=\"275\" y=\"0\" width=\"55\" height=\"55\" style=\"fill:#db2b39;stroke-width:2;stroke:rgb(255,255,255)\"/><rect x=\"330\" y=\"0\" width=\"55\" height=\"55\" style=\"fill:#0076a1;stroke-width:2;stroke:rgb(255,255,255)\"/><rect x=\"385\" y=\"0\" width=\"55\" height=\"55\" style=\"fill:#0072b2;stroke-width:2;stroke:rgb(255,255,255)\"/><rect x=\"440\" y=\"0\" width=\"55\" height=\"55\" style=\"fill:#1a5042;stroke-width:2;stroke:rgb(255,255,255)\"/><rect x=\"495\" y=\"0\" width=\"55\" height=\"55\" style=\"fill:#0c1713;stroke-width:2;stroke:rgb(255,255,255)\"/></svg>"
      ],
      "text/plain": [
       "[(0.33725490196078434, 0.7058823529411765, 0.9137254901960784),\n",
       " (0.0, 0.6196078431372549, 0.45098039215686275),\n",
       " (0.8, 0.4745098039215686, 0.6549019607843137),\n",
       " (0.6, 0.6, 0.6),\n",
       " (0.9019607843137255, 0.6235294117647059, 0.0),\n",
       " (0.8588235294117647, 0.16862745098039217, 0.2235294117647059),\n",
       " (0.0, 0.4627450980392157, 0.6313725490196078),\n",
       " (0.0, 0.4470588235294118, 0.6980392156862745),\n",
       " (0.10196078431372549, 0.3137254901960784, 0.25882352941176473),\n",
       " (0.047058823529411764, 0.09019607843137255, 0.07450980392156863)]"
      ]
     },
     "execution_count": 56,
     "metadata": {},
     "output_type": "execute_result"
    }
   ],
   "source": [
    "colors = [  \"#56B4E9\", \"#009E73\", \"#CC79A7\", \"#999999\", \"#E69F00\",\"#DB2B39\", \"#0076A1\", \"#0072B2\", \"#1A5042\",\"#0C1713\"]\n",
    "palette = sns.color_palette(colors)\n",
    "\n",
    "sns.set_theme(context='notebook', style='ticks', font='Arial', \n",
    "              font_scale=1, \n",
    "              rc={\"lines.linewidth\": 1, 'axes.linewidth':1, \n",
    "                                  \"xtick.major.width\":1,\"ytick.major.width\":1}, \n",
    "              palette = palette)\n",
    "sns.color_palette(colors)"
   ]
  },
  {
   "cell_type": "markdown",
   "metadata": {},
   "source": [
    "## Kinetics of the click reaction with two different azides and different conditions (with and without droplets)\n"
   ]
  },
  {
   "cell_type": "code",
   "execution_count": 57,
   "metadata": {},
   "outputs": [
    {
     "data": {
      "text/html": [
       "<div>\n",
       "<style scoped>\n",
       "    .dataframe tbody tr th:only-of-type {\n",
       "        vertical-align: middle;\n",
       "    }\n",
       "\n",
       "    .dataframe tbody tr th {\n",
       "        vertical-align: top;\n",
       "    }\n",
       "\n",
       "    .dataframe thead th {\n",
       "        text-align: right;\n",
       "    }\n",
       "</style>\n",
       "<table border=\"1\" class=\"dataframe\">\n",
       "  <thead>\n",
       "    <tr style=\"text-align: right;\">\n",
       "      <th></th>\n",
       "      <th>Time</th>\n",
       "      <th>Azide1</th>\n",
       "      <th>Azide2</th>\n",
       "      <th>cal1</th>\n",
       "      <th>cal2</th>\n",
       "      <th>mM_Azide1</th>\n",
       "      <th>mM_Azide2</th>\n",
       "      <th>Azide_1</th>\n",
       "      <th>Azide_2</th>\n",
       "      <th>Type</th>\n",
       "      <th>Ref</th>\n",
       "      <th>Yield1</th>\n",
       "      <th>Yield2</th>\n",
       "      <th>Total_yield</th>\n",
       "      <th>C</th>\n",
       "    </tr>\n",
       "  </thead>\n",
       "  <tbody>\n",
       "    <tr>\n",
       "      <th>0</th>\n",
       "      <td>0</td>\n",
       "      <td>NaN</td>\n",
       "      <td>NaN</td>\n",
       "      <td>5.56</td>\n",
       "      <td>4.29</td>\n",
       "      <td>3.200000</td>\n",
       "      <td>3.200000</td>\n",
       "      <td>Gly</td>\n",
       "      <td>kArg</td>\n",
       "      <td>no_pSS</td>\n",
       "      <td>HS-D-87</td>\n",
       "      <td>0.000000</td>\n",
       "      <td>0.000000</td>\n",
       "      <td>0.000000</td>\n",
       "      <td>Gly-kArg-no_pSS</td>\n",
       "    </tr>\n",
       "    <tr>\n",
       "      <th>1</th>\n",
       "      <td>1</td>\n",
       "      <td>17.7206</td>\n",
       "      <td>12.4418</td>\n",
       "      <td>5.56</td>\n",
       "      <td>4.29</td>\n",
       "      <td>3.187158</td>\n",
       "      <td>2.900186</td>\n",
       "      <td>Gly</td>\n",
       "      <td>kArg</td>\n",
       "      <td>no_pSS</td>\n",
       "      <td>HS-D-87</td>\n",
       "      <td>0.401304</td>\n",
       "      <td>9.369172</td>\n",
       "      <td>9.770476</td>\n",
       "      <td>Gly-kArg-no_pSS</td>\n",
       "    </tr>\n",
       "    <tr>\n",
       "      <th>2</th>\n",
       "      <td>2</td>\n",
       "      <td>15.2370</td>\n",
       "      <td>10.6746</td>\n",
       "      <td>5.56</td>\n",
       "      <td>4.29</td>\n",
       "      <td>2.740468</td>\n",
       "      <td>2.488252</td>\n",
       "      <td>Gly</td>\n",
       "      <td>kArg</td>\n",
       "      <td>no_pSS</td>\n",
       "      <td>HS-D-87</td>\n",
       "      <td>14.360387</td>\n",
       "      <td>22.242133</td>\n",
       "      <td>36.602520</td>\n",
       "      <td>Gly-kArg-no_pSS</td>\n",
       "    </tr>\n",
       "    <tr>\n",
       "      <th>3</th>\n",
       "      <td>4</td>\n",
       "      <td>10.6342</td>\n",
       "      <td>7.2056</td>\n",
       "      <td>5.56</td>\n",
       "      <td>4.29</td>\n",
       "      <td>1.912626</td>\n",
       "      <td>1.679627</td>\n",
       "      <td>Gly</td>\n",
       "      <td>kArg</td>\n",
       "      <td>no_pSS</td>\n",
       "      <td>HS-D-87</td>\n",
       "      <td>40.230441</td>\n",
       "      <td>47.511655</td>\n",
       "      <td>87.742096</td>\n",
       "      <td>Gly-kArg-no_pSS</td>\n",
       "    </tr>\n",
       "    <tr>\n",
       "      <th>4</th>\n",
       "      <td>8</td>\n",
       "      <td>10.5815</td>\n",
       "      <td>6.9970</td>\n",
       "      <td>5.56</td>\n",
       "      <td>4.29</td>\n",
       "      <td>1.903147</td>\n",
       "      <td>1.631002</td>\n",
       "      <td>Gly</td>\n",
       "      <td>kArg</td>\n",
       "      <td>no_pSS</td>\n",
       "      <td>HS-D-87</td>\n",
       "      <td>40.526641</td>\n",
       "      <td>49.031177</td>\n",
       "      <td>89.557818</td>\n",
       "      <td>Gly-kArg-no_pSS</td>\n",
       "    </tr>\n",
       "    <tr>\n",
       "      <th>...</th>\n",
       "      <td>...</td>\n",
       "      <td>...</td>\n",
       "      <td>...</td>\n",
       "      <td>...</td>\n",
       "      <td>...</td>\n",
       "      <td>...</td>\n",
       "      <td>...</td>\n",
       "      <td>...</td>\n",
       "      <td>...</td>\n",
       "      <td>...</td>\n",
       "      <td>...</td>\n",
       "      <td>...</td>\n",
       "      <td>...</td>\n",
       "      <td>...</td>\n",
       "      <td>...</td>\n",
       "    </tr>\n",
       "    <tr>\n",
       "      <th>187</th>\n",
       "      <td>1</td>\n",
       "      <td>21.0000</td>\n",
       "      <td>11.8000</td>\n",
       "      <td>6.72</td>\n",
       "      <td>3.66</td>\n",
       "      <td>3.125000</td>\n",
       "      <td>3.224044</td>\n",
       "      <td>Cys</td>\n",
       "      <td>kArg</td>\n",
       "      <td>no_pSS</td>\n",
       "      <td>HS-D-93</td>\n",
       "      <td>2.976190</td>\n",
       "      <td>-0.954116</td>\n",
       "      <td>2.022075</td>\n",
       "      <td>Cys-kArg-no_pSS</td>\n",
       "    </tr>\n",
       "    <tr>\n",
       "      <th>188</th>\n",
       "      <td>2</td>\n",
       "      <td>17.2476</td>\n",
       "      <td>9.5672</td>\n",
       "      <td>6.72</td>\n",
       "      <td>3.66</td>\n",
       "      <td>2.566607</td>\n",
       "      <td>2.613989</td>\n",
       "      <td>Cys</td>\n",
       "      <td>kArg</td>\n",
       "      <td>no_pSS</td>\n",
       "      <td>HS-D-93</td>\n",
       "      <td>25.134637</td>\n",
       "      <td>23.254402</td>\n",
       "      <td>48.389039</td>\n",
       "      <td>Cys-kArg-no_pSS</td>\n",
       "    </tr>\n",
       "    <tr>\n",
       "      <th>189</th>\n",
       "      <td>4</td>\n",
       "      <td>14.4253</td>\n",
       "      <td>8.0605</td>\n",
       "      <td>6.72</td>\n",
       "      <td>3.66</td>\n",
       "      <td>2.146622</td>\n",
       "      <td>2.202322</td>\n",
       "      <td>Cys</td>\n",
       "      <td>kArg</td>\n",
       "      <td>no_pSS</td>\n",
       "      <td>HS-D-93</td>\n",
       "      <td>41.800713</td>\n",
       "      <td>39.590381</td>\n",
       "      <td>81.391094</td>\n",
       "      <td>Cys-kArg-no_pSS</td>\n",
       "    </tr>\n",
       "    <tr>\n",
       "      <th>190</th>\n",
       "      <td>8</td>\n",
       "      <td>13.4973</td>\n",
       "      <td>7.3779</td>\n",
       "      <td>6.72</td>\n",
       "      <td>3.66</td>\n",
       "      <td>2.008527</td>\n",
       "      <td>2.015820</td>\n",
       "      <td>Cys</td>\n",
       "      <td>kArg</td>\n",
       "      <td>no_pSS</td>\n",
       "      <td>HS-D-93</td>\n",
       "      <td>47.280683</td>\n",
       "      <td>46.991283</td>\n",
       "      <td>94.271966</td>\n",
       "      <td>Cys-kArg-no_pSS</td>\n",
       "    </tr>\n",
       "    <tr>\n",
       "      <th>191</th>\n",
       "      <td>16</td>\n",
       "      <td>13.4993</td>\n",
       "      <td>7.3892</td>\n",
       "      <td>6.72</td>\n",
       "      <td>3.66</td>\n",
       "      <td>2.008824</td>\n",
       "      <td>2.018907</td>\n",
       "      <td>Cys</td>\n",
       "      <td>kArg</td>\n",
       "      <td>no_pSS</td>\n",
       "      <td>HS-D-93</td>\n",
       "      <td>47.268873</td>\n",
       "      <td>46.868766</td>\n",
       "      <td>94.137639</td>\n",
       "      <td>Cys-kArg-no_pSS</td>\n",
       "    </tr>\n",
       "  </tbody>\n",
       "</table>\n",
       "<p>192 rows × 15 columns</p>\n",
       "</div>"
      ],
      "text/plain": [
       "     Time   Azide1   Azide2  cal1  cal2  mM_Azide1  mM_Azide2 Azide_1 Azide_2  \\\n",
       "0       0      NaN      NaN  5.56  4.29   3.200000   3.200000     Gly    kArg   \n",
       "1       1  17.7206  12.4418  5.56  4.29   3.187158   2.900186     Gly    kArg   \n",
       "2       2  15.2370  10.6746  5.56  4.29   2.740468   2.488252     Gly    kArg   \n",
       "3       4  10.6342   7.2056  5.56  4.29   1.912626   1.679627     Gly    kArg   \n",
       "4       8  10.5815   6.9970  5.56  4.29   1.903147   1.631002     Gly    kArg   \n",
       "..    ...      ...      ...   ...   ...        ...        ...     ...     ...   \n",
       "187     1  21.0000  11.8000  6.72  3.66   3.125000   3.224044     Cys    kArg   \n",
       "188     2  17.2476   9.5672  6.72  3.66   2.566607   2.613989     Cys    kArg   \n",
       "189     4  14.4253   8.0605  6.72  3.66   2.146622   2.202322     Cys    kArg   \n",
       "190     8  13.4973   7.3779  6.72  3.66   2.008527   2.015820     Cys    kArg   \n",
       "191    16  13.4993   7.3892  6.72  3.66   2.008824   2.018907     Cys    kArg   \n",
       "\n",
       "       Type      Ref     Yield1     Yield2  Total_yield                C  \n",
       "0    no_pSS  HS-D-87   0.000000   0.000000     0.000000  Gly-kArg-no_pSS  \n",
       "1    no_pSS  HS-D-87   0.401304   9.369172     9.770476  Gly-kArg-no_pSS  \n",
       "2    no_pSS  HS-D-87  14.360387  22.242133    36.602520  Gly-kArg-no_pSS  \n",
       "3    no_pSS  HS-D-87  40.230441  47.511655    87.742096  Gly-kArg-no_pSS  \n",
       "4    no_pSS  HS-D-87  40.526641  49.031177    89.557818  Gly-kArg-no_pSS  \n",
       "..      ...      ...        ...        ...          ...              ...  \n",
       "187  no_pSS  HS-D-93   2.976190  -0.954116     2.022075  Cys-kArg-no_pSS  \n",
       "188  no_pSS  HS-D-93  25.134637  23.254402    48.389039  Cys-kArg-no_pSS  \n",
       "189  no_pSS  HS-D-93  41.800713  39.590381    81.391094  Cys-kArg-no_pSS  \n",
       "190  no_pSS  HS-D-93  47.280683  46.991283    94.271966  Cys-kArg-no_pSS  \n",
       "191  no_pSS  HS-D-93  47.268873  46.868766    94.137639  Cys-kArg-no_pSS  \n",
       "\n",
       "[192 rows x 15 columns]"
      ]
     },
     "execution_count": 57,
     "metadata": {},
     "output_type": "execute_result"
    }
   ],
   "source": [
    "df = pd.read_excel(\"Active_Kinetics.xlsx\")\n",
    "df[\"C\"] = df[\"Azide_1\"] + \"-\" + df[\"Azide_2\"]+ \"-\" + df[\"Type\"]\n",
    "df"
   ]
  },
  {
   "cell_type": "code",
   "execution_count": 58,
   "metadata": {},
   "outputs": [],
   "source": [
    "df[[\"Type\", \"Azide_1\", \"Azide_2\", \"Time\", \"Yield1\", \"Yield2\", \"C\"]].to_csv(\"Kinetics.csv\", index=False)\n"
   ]
  },
  {
   "cell_type": "code",
   "execution_count": 59,
   "metadata": {},
   "outputs": [],
   "source": [
    "def monoexponential(x, A, k, B):\n",
    "    \"\"\"\n",
    "    Compute the value of a monoexponential function at point x.\n",
    "    \n",
    "    Args:\n",
    "        x (float): The input value.\n",
    "        A (float): Amplitude or initial value.\n",
    "        k (float): Decay constant or growth rate.\n",
    "    \n",
    "    Returns:\n",
    "        float: The value of the monoexponential function at point x.\n",
    "    \"\"\"\n",
    "    return B + (A * np.exp(-k * x))\n",
    "\n",
    "def fit_monoexponential_two_Azides_Yield(df):\n",
    "    t = df[\"Time\"].values\n",
    "    azide1 = df[\"Yield1\"].values\n",
    "    azide2 = df[\"Yield2\"].values\n",
    "\n",
    "    # Fit data to monoexponential function\n",
    "    popt1, pcov1 = curve_fit(monoexponential, t, azide1, p0=[100, 0.5, azide1[-2:].mean()])\n",
    "    popt2, pcov2 = curve_fit(monoexponential, t, azide2, p0=[100, 0.5, azide2[-2:].mean()])\n",
    "\n",
    "    # Calculate uncertainties\n",
    "    perr1 = np.sqrt(np.diag(pcov1))\n",
    "    perr2 = np.sqrt(np.diag(pcov2))\n",
    "\n",
    "    return pd.DataFrame({\"Azide1\": popt1, \"Azide1_err\": perr1, \"Azide2\": popt2, \"Azide2_err\": perr2}, index=[\"A\", \"k\", \"B\"])\n",
    "\n",
    "\n"
   ]
  },
  {
   "cell_type": "code",
   "execution_count": null,
   "metadata": {},
   "outputs": [],
   "source": []
  },
  {
   "cell_type": "code",
   "execution_count": 60,
   "metadata": {},
   "outputs": [
    {
     "data": {
      "image/png": "[encoded data removed]",
      "text/plain": [
       "<Figure size 1350x450 with 12 Axes>"
      ]
     },
     "metadata": {},
     "output_type": "display_data"
    }
   ],
   "source": [
    "fits = []\n",
    "df[\"Replica\"] = sorted([\"A\", \"B\"] * 6) * 16\n",
    "\n",
    "colors = ([\"C0\", \"C2\"], [\"C0\", \"C1\"], [\"C0\", \"C4\"], [\"C2\", \"C1\"], [\"C2\", \"C4\"], [\"C1\", \"C4\"], \n",
    "          [\"C0\", \"C2\"], [\"C0\", \"C1\"], [\"C0\", \"C4\"], [\"C2\", \"C1\"], [\"C2\", \"C4\"], [\"C1\", \"C4\"])\n",
    "\n",
    "groups = list(df.groupby([\"Type\", \"Azide_1\", \"Azide_2\"]))\n",
    "n_rows = 2\n",
    "n_cols = len(groups) // n_rows\n",
    "\n",
    "fig, axes = plt.subplots(n_rows, n_cols, figsize=(n_cols * 2.25, n_rows * 2.25), dpi=100, sharex=True, sharey=True)\n",
    "\n",
    "for c, (ax, (key, group)) in enumerate(zip(axes.flatten(), groups)):\n",
    "    fit = fit_monoexponential_two_Azides_Yield(group)\n",
    "    fit[\"Type\"], fit[\"Azide_1\"], fit[\"Azide_2\"] = key\n",
    "    fits.append(fit)\n",
    "    x_sim = np.linspace(0, 17, 1000)\n",
    "    \n",
    "    y_sim = monoexponential(x_sim, fit[\"Azide1\"].iloc[0], fit[\"Azide1\"].iloc[1], fit[\"Azide1\"].iloc[2])\n",
    "    y_sim2 = monoexponential(x_sim, fit[\"Azide2\"].iloc[0], fit[\"Azide2\"].iloc[1], fit[\"Azide2\"].iloc[2])    \n",
    "    \n",
    "    sns.scatterplot(data=group, x=\"Time\", y=\"Yield1\", ax=ax, edgecolor=\"none\", s=20, legend=False, color=colors[c][0], alpha=0.7)\n",
    "    sns.scatterplot(data=group, x=\"Time\", y=\"Yield2\", ax=ax, edgecolor=\"none\", s=20, legend=False, color=colors[c][1], alpha=0.7)\n",
    "    ax.plot(x_sim, y_sim, c=colors[c][0])\n",
    "    ax.plot(x_sim, y_sim2, c=colors[c][1])\n",
    "    \n",
    "    sns.despine(ax=ax, left=False, bottom=False)\n",
    "    ax.set(xlabel=\"\", ylabel=\"\", xticks=np.linspace(0, 16, 3), yticks=np.linspace(0, 100, 3), ylim=(-10, 120), title=f\"{key}\")\n",
    "    ax.title.set_fontsize(7)\n",
    "\n",
    "plt.tight_layout()"
   ]
  },
  {
   "cell_type": "markdown",
   "metadata": {},
   "source": [
    "## Product distributions"
   ]
  },
  {
   "cell_type": "code",
   "execution_count": 73,
   "metadata": {},
   "outputs": [],
   "source": [
    "df2 = pd.read_csv(\"Final_Triazoles.csv\")"
   ]
  },
  {
   "cell_type": "code",
   "execution_count": 74,
   "metadata": {},
   "outputs": [],
   "source": [
    "\n",
    "import matplotlib as mpl\n",
    "\n",
    "def colorFader(c1, c2, mix=0):\n",
    "    c1 = np.array(mpl.colors.to_rgb(c1))\n",
    "    c2 = np.array(mpl.colors.to_rgb(c2))\n",
    "    return tuple((1 - mix) * c1 + mix * c2)\n",
    "\n",
    "def gradientFader(c1, c2, n):\n",
    "    n = n-1\n",
    "    gradient = []\n",
    "    for x in range(n + 1):\n",
    "        gradient.append(colorFader(c1, c2, x / n))\n",
    "    return gradient\n",
    "\n"
   ]
  },
  {
   "cell_type": "code",
   "execution_count": 75,
   "metadata": {},
   "outputs": [
    {
     "name": "stderr",
     "output_type": "stream",
     "text": [
      "/var/folders/tx/jcz7yt1s7tdg8h231t9g2zx40000gn/T/ipykernel_14022/850633857.py:10: FutureWarning: \n",
      "\n",
      "Passing `palette` without assigning `hue` is deprecated and will be removed in v0.14.0. Assign the `x` variable to `hue` and set `legend=False` for the same effect.\n",
      "\n",
      "  sns.barplot(data = df2.query(\"Type == 'no_pSS' & Azide1 == 'Arg' \"), x = \"variable\", y = \"value\", errorbar=None, palette=gradient)\n"
     ]
    },
    {
     "data": {
      "text/plain": [
       "[Text(0.5, 0, ''),\n",
       " Text(0, 0.5, ''),\n",
       " [<matplotlib.axis.YTick at 0x7faa41b184f0>,\n",
       "  <matplotlib.axis.YTick at 0x7faa32d748b0>,\n",
       "  <matplotlib.axis.YTick at 0x7faa4130ae20>]]"
      ]
     },
     "execution_count": 75,
     "metadata": {},
     "output_type": "execute_result"
    },
    {
     "data": {
      "image/png": "[encoded data removed]",
      "text/plain": [
       "<Figure size 215x200 with 1 Axes>"
      ]
     },
     "metadata": {},
     "output_type": "display_data"
    }
   ],
   "source": [
    "# Arg and LysArg without pSS:\n",
    "c1 = 'C0'\n",
    "c2 = 'C4'\n",
    "\n",
    "gradient = gradientFader(c1, c2, n = 4)\n",
    "fig, ax = plt.subplots(figsize = (2.15,2), dpi = 100)\n",
    "sns.despine(fig, top = True, right = True)\n",
    "\n",
    "sns.stripplot(data = df2.query(\"Type == 'no_pSS' & Azide1 == 'Arg'\"), x = \"variable\", y = \"value\", color = \"#0C1713\")\n",
    "sns.barplot(data = df2.query(\"Type == 'no_pSS' & Azide1 == 'Arg' \"), x = \"variable\", y = \"value\", errorbar=None, palette=gradient)\n",
    "\n",
    "ax.set(xlabel = \"\", ylabel = \"\", yticks = np.linspace(0, 50, 3))\n"
   ]
  },
  {
   "cell_type": "code",
   "execution_count": 76,
   "metadata": {},
   "outputs": [
    {
     "name": "stderr",
     "output_type": "stream",
     "text": [
      "/var/folders/tx/jcz7yt1s7tdg8h231t9g2zx40000gn/T/ipykernel_14022/2774831954.py:10: FutureWarning: \n",
      "\n",
      "Passing `palette` without assigning `hue` is deprecated and will be removed in v0.14.0. Assign the `x` variable to `hue` and set `legend=False` for the same effect.\n",
      "\n",
      "  sns.barplot(data = df2.query(\"Type != 'no_pSS' & Azide1 == 'Arg' \"), x = \"variable\", y = \"value\", errorbar=None, palette=gradient)\n"
     ]
    },
    {
     "data": {
      "text/plain": [
       "[Text(0.5, 0, ''),\n",
       " Text(0, 0.5, ''),\n",
       " [<matplotlib.axis.YTick at 0x7faa40e41fa0>,\n",
       "  <matplotlib.axis.YTick at 0x7faa40e41f40>,\n",
       "  <matplotlib.axis.YTick at 0x7faa1324c340>]]"
      ]
     },
     "execution_count": 76,
     "metadata": {},
     "output_type": "execute_result"
    },
    {
     "data": {
      "image/png": "[encoded data removed]",
      "text/plain": [
       "<Figure size 215x200 with 1 Axes>"
      ]
     },
     "metadata": {},
     "output_type": "display_data"
    }
   ],
   "source": [
    "# Arg and LysArg with pSS:\n",
    "c1 = 'C0'\n",
    "c2 = 'C4'\n",
    "\n",
    "gradient = gradientFader(c1, c2, n = 4)\n",
    "fig, ax = plt.subplots(figsize = (2.15,2), dpi = 100)\n",
    "sns.despine(fig, top = True, right = True)\n",
    "\n",
    "sns.stripplot(data = df2.query(\"Type != 'no_pSS' & Azide1 == 'Arg'\"), x = \"variable\", y = \"value\", color = \"#0C1713\")\n",
    "sns.barplot(data = df2.query(\"Type != 'no_pSS' & Azide1 == 'Arg' \"), x = \"variable\", y = \"value\", errorbar=None, palette=gradient)\n",
    "\n",
    "ax.set(xlabel = \"\", ylabel = \"\", yticks = np.linspace(0, 50, 3))\n"
   ]
  },
  {
   "cell_type": "code",
   "execution_count": 77,
   "metadata": {},
   "outputs": [
    {
     "name": "stderr",
     "output_type": "stream",
     "text": [
      "/var/folders/tx/jcz7yt1s7tdg8h231t9g2zx40000gn/T/ipykernel_14022/1268840473.py:10: FutureWarning: \n",
      "\n",
      "Passing `palette` without assigning `hue` is deprecated and will be removed in v0.14.0. Assign the `x` variable to `hue` and set `legend=False` for the same effect.\n",
      "\n",
      "  sns.barplot(data = df2.query(\"Type != 'no_pSS' & Azide1 == 'Gly'\"), x = \"variable\", y = \"value\", errorbar=None, palette=gradient)\n"
     ]
    },
    {
     "data": {
      "text/plain": [
       "[Text(0.5, 0, ''),\n",
       " Text(0, 0.5, ''),\n",
       " [<matplotlib.axis.YTick at 0x7faa41b1ecd0>,\n",
       "  <matplotlib.axis.YTick at 0x7faa11f907c0>,\n",
       "  <matplotlib.axis.YTick at 0x7faa4286d250>]]"
      ]
     },
     "execution_count": 77,
     "metadata": {},
     "output_type": "execute_result"
    },
    {
     "data": {
      "image/png": "[encoded data removed]",
      "text/plain": [
       "<Figure size 215x200 with 1 Axes>"
      ]
     },
     "metadata": {},
     "output_type": "display_data"
    }
   ],
   "source": [
    "# Gly and LysArg with PSS\n",
    "c1 = 'C1'\n",
    "c2 = 'C4'\n",
    "\n",
    "gradient = gradientFader(c1, c2, n = 4)\n",
    "fig, ax = plt.subplots(figsize = (2.15,2), dpi = 100)\n",
    "sns.despine(fig, top = True, right = True)\n",
    "\n",
    "sns.stripplot(data = df2.query(\"Type != 'no_pSS' & Azide1 == 'Gly'\"), x = \"variable\", y = \"value\", color = \"#0C1713\")\n",
    "sns.barplot(data = df2.query(\"Type != 'no_pSS' & Azide1 == 'Gly'\"), x = \"variable\", y = \"value\", errorbar=None, palette=gradient)\n",
    "\n",
    "ax.set(xlabel = \"\", ylabel = \"\", yticks = np.linspace(0, 50, 3))\n"
   ]
  },
  {
   "cell_type": "code",
   "execution_count": 78,
   "metadata": {},
   "outputs": [
    {
     "name": "stderr",
     "output_type": "stream",
     "text": [
      "/var/folders/tx/jcz7yt1s7tdg8h231t9g2zx40000gn/T/ipykernel_14022/1909449567.py:10: FutureWarning: \n",
      "\n",
      "Passing `palette` without assigning `hue` is deprecated and will be removed in v0.14.0. Assign the `x` variable to `hue` and set `legend=False` for the same effect.\n",
      "\n",
      "  sns.barplot(data = df2.query(\"Type == 'no_pSS' & Azide1 == 'Gly'\"), x = \"variable\", y = \"value\", errorbar=None, palette=gradient)\n"
     ]
    },
    {
     "data": {
      "text/plain": [
       "[Text(0.5, 0, ''),\n",
       " Text(0, 0.5, ''),\n",
       " [<matplotlib.axis.YTick at 0x7faa33a03790>,\n",
       "  <matplotlib.axis.YTick at 0x7faa33a03130>,\n",
       "  <matplotlib.axis.YTick at 0x7faa33c061c0>]]"
      ]
     },
     "execution_count": 78,
     "metadata": {},
     "output_type": "execute_result"
    },
    {
     "data": {
      "image/png": "[encoded data removed]",
      "text/plain": [
       "<Figure size 215x200 with 1 Axes>"
      ]
     },
     "metadata": {},
     "output_type": "display_data"
    }
   ],
   "source": [
    "# Gly and LysArg without PSS\n",
    "c1 = 'C1'\n",
    "c2 = 'C4'\n",
    "\n",
    "gradient = gradientFader(c1, c2, n = 4)\n",
    "fig, ax = plt.subplots(figsize = (2.15,2), dpi = 100)\n",
    "sns.despine(fig, top = True, right = True)\n",
    "\n",
    "sns.stripplot(data = df2.query(\"Type == 'no_pSS' & Azide1 == 'Gly'\"), x = \"variable\", y = \"value\", color = \"#0C1713\")\n",
    "sns.barplot(data = df2.query(\"Type == 'no_pSS' & Azide1 == 'Gly'\"), x = \"variable\", y = \"value\", errorbar=None, palette=gradient)\n",
    "\n",
    "ax.set(xlabel = \"\", ylabel = \"\", yticks = np.linspace(0, 50, 3))\n"
   ]
  },
  {
   "cell_type": "code",
   "execution_count": 79,
   "metadata": {},
   "outputs": [
    {
     "name": "stderr",
     "output_type": "stream",
     "text": [
      "/var/folders/tx/jcz7yt1s7tdg8h231t9g2zx40000gn/T/ipykernel_14022/918566356.py:10: FutureWarning: \n",
      "\n",
      "Passing `palette` without assigning `hue` is deprecated and will be removed in v0.14.0. Assign the `x` variable to `hue` and set `legend=False` for the same effect.\n",
      "\n",
      "  sns.barplot(data = df2.query(\"Type != 'no_pSS' & Azide1 == 'Cys'\"), x = \"variable\", y = \"value\", errorbar=None, palette=gradient)\n"
     ]
    },
    {
     "data": {
      "text/plain": [
       "[Text(0.5, 0, ''),\n",
       " Text(0, 0.5, ''),\n",
       " [<matplotlib.axis.YTick at 0x7faa41e04af0>,\n",
       "  <matplotlib.axis.YTick at 0x7faa41e04490>,\n",
       "  <matplotlib.axis.YTick at 0x7faa41dacd30>]]"
      ]
     },
     "execution_count": 79,
     "metadata": {},
     "output_type": "execute_result"
    },
    {
     "data": {
      "image/png": "[encoded data removed]",
      "text/plain": [
       "<Figure size 215x200 with 1 Axes>"
      ]
     },
     "metadata": {},
     "output_type": "display_data"
    }
   ],
   "source": [
    "# Cys and LysArg with PSS\n",
    "c1 = 'C2'\n",
    "c2 = 'C4'\n",
    "\n",
    "gradient = gradientFader(c1, c2, n = 4)\n",
    "fig, ax = plt.subplots(figsize = (2.15,2), dpi = 100)\n",
    "sns.despine(fig, top = True, right = True)\n",
    "\n",
    "sns.stripplot(data = df2.query(\"Type != 'no_pSS' & Azide1 == 'Cys'\"), x = \"variable\", y = \"value\", color = \"#0C1713\")\n",
    "sns.barplot(data = df2.query(\"Type != 'no_pSS' & Azide1 == 'Cys'\"), x = \"variable\", y = \"value\", errorbar=None, palette=gradient)\n",
    "\n",
    "ax.set(xlabel = \"\", ylabel = \"\", yticks = np.linspace(0, 50, 3))\n"
   ]
  },
  {
   "cell_type": "code",
   "execution_count": 80,
   "metadata": {},
   "outputs": [
    {
     "name": "stderr",
     "output_type": "stream",
     "text": [
      "/var/folders/tx/jcz7yt1s7tdg8h231t9g2zx40000gn/T/ipykernel_14022/798066793.py:10: FutureWarning: \n",
      "\n",
      "Passing `palette` without assigning `hue` is deprecated and will be removed in v0.14.0. Assign the `x` variable to `hue` and set `legend=False` for the same effect.\n",
      "\n",
      "  sns.barplot(data = df2.query(\"Type == 'no_pSS' & Azide1 == 'Cys'\"), x = \"variable\", y = \"value\", errorbar=None, palette=gradient)\n"
     ]
    },
    {
     "data": {
      "text/plain": [
       "[Text(0.5, 0, ''),\n",
       " Text(0, 0.5, ''),\n",
       " [<matplotlib.axis.YTick at 0x7faa33bf7c70>,\n",
       "  <matplotlib.axis.YTick at 0x7faa33c033a0>,\n",
       "  <matplotlib.axis.YTick at 0x7faa41ea9310>]]"
      ]
     },
     "execution_count": 80,
     "metadata": {},
     "output_type": "execute_result"
    },
    {
     "data": {
      "image/png": "[encoded data removed]",
      "text/plain": [
       "<Figure size 215x200 with 1 Axes>"
      ]
     },
     "metadata": {},
     "output_type": "display_data"
    }
   ],
   "source": [
    "# Cys and LysArg without PSS\n",
    "c1 = 'C2'\n",
    "c2 = 'C4'\n",
    "\n",
    "gradient = gradientFader(c1, c2, n = 4)\n",
    "fig, ax = plt.subplots(figsize = (2.15,2), dpi = 100)\n",
    "sns.despine(fig, top = True, right = True)\n",
    "\n",
    "sns.stripplot(data = df2.query(\"Type == 'no_pSS' & Azide1 == 'Cys'\"), x = \"variable\", y = \"value\", color = \"#0C1713\")\n",
    "sns.barplot(data = df2.query(\"Type == 'no_pSS' & Azide1 == 'Cys'\"), x = \"variable\", y = \"value\", errorbar=None, palette=gradient)\n",
    "\n",
    "ax.set(xlabel = \"\", ylabel = \"\", yticks = np.linspace(0, 50, 3))\n"
   ]
  },
  {
   "cell_type": "code",
   "execution_count": 103,
   "metadata": {},
   "outputs": [],
   "source": [
    "d = pd.read_csv(\"Final_Triazoles_Cys_Gly.csv\")"
   ]
  },
  {
   "cell_type": "code",
   "execution_count": 104,
   "metadata": {},
   "outputs": [
    {
     "data": {
      "text/plain": [
       "<matplotlib.legend.Legend at 0x7faa33e8fd30>"
      ]
     },
     "execution_count": 104,
     "metadata": {},
     "output_type": "execute_result"
    },
    {
     "data": {
      "image/png": "[encoded data removed]",
      "text/plain": [
       "<Figure size 315x200 with 1 Axes>"
      ]
     },
     "metadata": {},
     "output_type": "display_data"
    }
   ],
   "source": [
    "# Gly and Cys \n",
    "\n",
    "fig, ax = plt.subplots(figsize = (3.15,2), dpi = 100)\n",
    "sns.despine(fig, top = True, right = True)\n",
    "\n",
    "sns.stripplot(data = d, x = \"Type\", y = \"value\", palette='dark:#0C1713', hue = \"variable\", dodge=True, size = 5)\n",
    "\n",
    "sns.barplot(data = d, x = \"Type\", y = \"value\", errorbar=None, hue = \"variable\", palette=gradientFader(\"C1\", \"C2\", 4), width=.8)\n",
    "\n",
    "ax.set(xlabel=\"\", ylabel=\"\", \n",
    "           yticks=np.linspace(0, 50, 3), \n",
    "           )\n",
    "plt.legend([], frameon = False)\n"
   ]
  },
  {
   "cell_type": "code",
   "execution_count": null,
   "metadata": {},
   "outputs": [],
   "source": []
  }
 ],
 "metadata": {
  "kernelspec": {
   "display_name": "Munich",
   "language": "python",
   "name": "python3"
  },
  "language_info": {
   "codemirror_mode": {
    "name": "ipython",
    "version": 3
   },
   "file_extension": ".py",
   "mimetype": "text/x-python",
   "name": "python",
   "nbconvert_exporter": "python",
   "pygments_lexer": "ipython3",
   "version": "3.9.15"
  }
 },
 "nbformat": 4,
 "nbformat_minor": 2
}
