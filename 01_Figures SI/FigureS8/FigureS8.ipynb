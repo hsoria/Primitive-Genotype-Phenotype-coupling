{
 "cells": [
  {
   "cell_type": "markdown",
   "metadata": {},
   "source": [
    "# Figure S8"
   ]
  },
  {
   "cell_type": "code",
   "execution_count": 2,
   "metadata": {},
   "outputs": [],
   "source": [
    "\n",
    "from scipy.integrate import odeint, solve_ivp, lsoda\n",
    "from scipy.optimize import minimize\n",
    "from scipy.optimize import curve_fit\n",
    "import numpy as np\n",
    "from scipy.integrate import odeint\n",
    "import matplotlib.pyplot as plt\n",
    "import pandas as pd\n",
    "import seaborn as sns\n",
    "\n",
    "\n",
    "\n",
    "import scipy.optimize\n",
    "from matplotlib.ticker import FormatStrFormatter\n",
    "import matplotlib.ticker as tkr\n",
    "import scipy.stats as st\n",
    "from scipy.stats import scoreatpercentile\n",
    "\n",
    "\n",
    "\n",
    "import glob\n",
    "\n",
    "def significance_stars(p_value):\n",
    "    if p_value < 0.001:\n",
    "        return '***'\n",
    "    elif p_value < 0.01:\n",
    "        return '**'\n",
    "    elif p_value < 0.05:\n",
    "        return '*'\n",
    "    else:\n",
    "        return 'ns'"
   ]
  },
  {
   "cell_type": "markdown",
   "metadata": {},
   "source": [
    "# Asthetics"
   ]
  },
  {
   "cell_type": "code",
   "execution_count": 3,
   "metadata": {},
   "outputs": [
    {
     "data": {
      "text/html": [
       "<svg  width=\"605\" height=\"55\"><rect x=\"0\" y=\"0\" width=\"55\" height=\"55\" style=\"fill:#56b4e9;stroke-width:2;stroke:rgb(255,255,255)\"/><rect x=\"55\" y=\"0\" width=\"55\" height=\"55\" style=\"fill:#009e73;stroke-width:2;stroke:rgb(255,255,255)\"/><rect x=\"110\" y=\"0\" width=\"55\" height=\"55\" style=\"fill:#cc79a7;stroke-width:2;stroke:rgb(255,255,255)\"/><rect x=\"165\" y=\"0\" width=\"55\" height=\"55\" style=\"fill:#999999;stroke-width:2;stroke:rgb(255,255,255)\"/><rect x=\"220\" y=\"0\" width=\"55\" height=\"55\" style=\"fill:#e69f00;stroke-width:2;stroke:rgb(255,255,255)\"/><rect x=\"275\" y=\"0\" width=\"55\" height=\"55\" style=\"fill:#db2b39;stroke-width:2;stroke:rgb(255,255,255)\"/><rect x=\"330\" y=\"0\" width=\"55\" height=\"55\" style=\"fill:#0076a1;stroke-width:2;stroke:rgb(255,255,255)\"/><rect x=\"385\" y=\"0\" width=\"55\" height=\"55\" style=\"fill:#0072b2;stroke-width:2;stroke:rgb(255,255,255)\"/><rect x=\"440\" y=\"0\" width=\"55\" height=\"55\" style=\"fill:#1a5042;stroke-width:2;stroke:rgb(255,255,255)\"/><rect x=\"495\" y=\"0\" width=\"55\" height=\"55\" style=\"fill:#0c1713;stroke-width:2;stroke:rgb(255,255,255)\"/><rect x=\"550\" y=\"0\" width=\"55\" height=\"55\" style=\"fill:#6a6969;stroke-width:2;stroke:rgb(255,255,255)\"/></svg>"
      ],
      "text/plain": [
       "[(0.33725490196078434, 0.7058823529411765, 0.9137254901960784),\n",
       " (0.0, 0.6196078431372549, 0.45098039215686275),\n",
       " (0.8, 0.4745098039215686, 0.6549019607843137),\n",
       " (0.6, 0.6, 0.6),\n",
       " (0.9019607843137255, 0.6235294117647059, 0.0),\n",
       " (0.8588235294117647, 0.16862745098039217, 0.2235294117647059),\n",
       " (0.0, 0.4627450980392157, 0.6313725490196078),\n",
       " (0.0, 0.4470588235294118, 0.6980392156862745),\n",
       " (0.10196078431372549, 0.3137254901960784, 0.25882352941176473),\n",
       " (0.047058823529411764, 0.09019607843137255, 0.07450980392156863),\n",
       " (0.41568627450980394, 0.4117647058823529, 0.4117647058823529)]"
      ]
     },
     "execution_count": 3,
     "metadata": {},
     "output_type": "execute_result"
    }
   ],
   "source": [
    "colors = [  \"#56B4E9\", \"#009E73\", \"#CC79A7\", \"#999999\", \"#E69F00\",\"#DB2B39\", \"#0076A1\", \"#0072B2\", \"#1A5042\",\"#0C1713\", \"#6A6969\"]\n",
    "palette = sns.color_palette(colors)\n",
    "n = 1\n",
    "\n",
    "sns.set_theme(context='notebook', style='ticks', font='Arial', \n",
    "              font_scale=1.3, \n",
    "              rc={\"lines.linewidth\": n, 'axes.linewidth':n, \n",
    "                                  \"xtick.major.width\":n,\"ytick.major.width\":n}, \n",
    "              palette = palette)\n",
    "sns.color_palette(colors)"
   ]
  },
  {
   "cell_type": "code",
   "execution_count": 10,
   "metadata": {},
   "outputs": [],
   "source": [
    "df2 = pd.read_csv(\"FigureS8_Partitioning.csv\")"
   ]
  },
  {
   "cell_type": "code",
   "execution_count": 11,
   "metadata": {},
   "outputs": [
    {
     "name": "stderr",
     "output_type": "stream",
     "text": [
      "/var/folders/tx/jcz7yt1s7tdg8h231t9g2zx40000gn/T/ipykernel_14883/3609558134.py:23: UserWarning: set_ticklabels() should only be used with a fixed number of ticks, i.e. after set_ticks() or using a FixedLocator.\n",
      "  ax.set(yticks = np.linspace(0, 200, 3), xlabel = \"\", ylabel = \"\", ylim=(0, 210), xticklabels=[\"\"], xticks=())\n"
     ]
    },
    {
     "data": {
      "image/png": "[encoded data removed]",
      "text/plain": [
       "<Figure size 400x430 with 1 Axes>"
      ]
     },
     "metadata": {},
     "output_type": "display_data"
    }
   ],
   "source": [
    "# Example usage:\n",
    "\n",
    "fig, ax = plt.subplots(figsize = (2.,2.15), dpi = 200)\n",
    "\n",
    "\n",
    "sns.despine(fig, top = True, right = True)\n",
    "\n",
    "\n",
    "ax.set(xlabel = \"\", ylabel = \"\", yticks = np.linspace(0, 4, 3))\n",
    "\n",
    "\n",
    "\n",
    "sns.swarmplot(data = df2, x = \"Sample\", y = \"Partioning\", hue = \"Sample\",\n",
    "              palette='dark:#0C1713', legend=False, ax = ax, s = 5,\n",
    "              dodge=False)\n",
    " \n",
    "sns.barplot(data = df2, x = \"Sample\", y = \"Partioning\", hue = \"Sample\",\n",
    "             legend=False, \n",
    "             ax = ax, \n",
    "             dodge=None, \n",
    "             errorbar=None,  width=.7, palette= [ \"C7\",\"C2\",\"C4\"]) \n",
    "\n",
    "ax.set(yticks = np.linspace(0, 200, 3), xlabel = \"\", ylabel = \"\", ylim=(0, 210), xticklabels=[\"\"], xticks=())\n",
    "\n",
    "plt.tight_layout()\n",
    "\n",
    "\n"
   ]
  },
  {
   "cell_type": "code",
   "execution_count": null,
   "metadata": {},
   "outputs": [],
   "source": []
  },
  {
   "cell_type": "code",
   "execution_count": 12,
   "metadata": {},
   "outputs": [],
   "source": [
    "import pingouin as pg\n"
   ]
  },
  {
   "cell_type": "code",
   "execution_count": 13,
   "metadata": {},
   "outputs": [
    {
     "data": {
      "text/html": [
       "<div>\n",
       "<style scoped>\n",
       "    .dataframe tbody tr th:only-of-type {\n",
       "        vertical-align: middle;\n",
       "    }\n",
       "\n",
       "    .dataframe tbody tr th {\n",
       "        vertical-align: top;\n",
       "    }\n",
       "\n",
       "    .dataframe thead th {\n",
       "        text-align: right;\n",
       "    }\n",
       "</style>\n",
       "<table border=\"1\" class=\"dataframe\">\n",
       "  <thead>\n",
       "    <tr style=\"text-align: right;\">\n",
       "      <th></th>\n",
       "      <th>count</th>\n",
       "      <th>mean</th>\n",
       "      <th>std</th>\n",
       "      <th>min</th>\n",
       "      <th>25%</th>\n",
       "      <th>50%</th>\n",
       "      <th>75%</th>\n",
       "      <th>max</th>\n",
       "    </tr>\n",
       "    <tr>\n",
       "      <th>Type</th>\n",
       "      <th></th>\n",
       "      <th></th>\n",
       "      <th></th>\n",
       "      <th></th>\n",
       "      <th></th>\n",
       "      <th></th>\n",
       "      <th></th>\n",
       "      <th></th>\n",
       "    </tr>\n",
       "  </thead>\n",
       "  <tbody>\n",
       "    <tr>\n",
       "      <th>C3</th>\n",
       "      <td>3.0</td>\n",
       "      <td>19.023249</td>\n",
       "      <td>10.513713</td>\n",
       "      <td>12.866682</td>\n",
       "      <td>12.953361</td>\n",
       "      <td>13.040040</td>\n",
       "      <td>22.101533</td>\n",
       "      <td>31.163027</td>\n",
       "    </tr>\n",
       "    <tr>\n",
       "      <th>Cu</th>\n",
       "      <td>3.0</td>\n",
       "      <td>24.030344</td>\n",
       "      <td>2.155767</td>\n",
       "      <td>21.562800</td>\n",
       "      <td>23.271378</td>\n",
       "      <td>24.979955</td>\n",
       "      <td>25.264117</td>\n",
       "      <td>25.548278</td>\n",
       "    </tr>\n",
       "    <tr>\n",
       "      <th>KR3</th>\n",
       "      <td>3.0</td>\n",
       "      <td>137.861944</td>\n",
       "      <td>33.845839</td>\n",
       "      <td>100.479574</td>\n",
       "      <td>123.580269</td>\n",
       "      <td>146.680965</td>\n",
       "      <td>156.553129</td>\n",
       "      <td>166.425293</td>\n",
       "    </tr>\n",
       "  </tbody>\n",
       "</table>\n",
       "</div>"
      ],
      "text/plain": [
       "      count        mean        std         min         25%         50%  \\\n",
       "Type                                                                     \n",
       "C3      3.0   19.023249  10.513713   12.866682   12.953361   13.040040   \n",
       "Cu      3.0   24.030344   2.155767   21.562800   23.271378   24.979955   \n",
       "KR3     3.0  137.861944  33.845839  100.479574  123.580269  146.680965   \n",
       "\n",
       "             75%         max  \n",
       "Type                          \n",
       "C3     22.101533   31.163027  \n",
       "Cu     25.264117   25.548278  \n",
       "KR3   156.553129  166.425293  "
      ]
     },
     "execution_count": 13,
     "metadata": {},
     "output_type": "execute_result"
    }
   ],
   "source": [
    "df2.groupby(\"Type\")[\"Partioning\"].describe()"
   ]
  },
  {
   "cell_type": "code",
   "execution_count": 14,
   "metadata": {},
   "outputs": [
    {
     "data": {
      "text/html": [
       "<div>\n",
       "<style scoped>\n",
       "    .dataframe tbody tr th:only-of-type {\n",
       "        vertical-align: middle;\n",
       "    }\n",
       "\n",
       "    .dataframe tbody tr th {\n",
       "        vertical-align: top;\n",
       "    }\n",
       "\n",
       "    .dataframe thead th {\n",
       "        text-align: right;\n",
       "    }\n",
       "</style>\n",
       "<table border=\"1\" class=\"dataframe\">\n",
       "  <thead>\n",
       "    <tr style=\"text-align: right;\">\n",
       "      <th></th>\n",
       "      <th>A</th>\n",
       "      <th>B</th>\n",
       "      <th>mean(A)</th>\n",
       "      <th>mean(B)</th>\n",
       "      <th>diff</th>\n",
       "      <th>se</th>\n",
       "      <th>T</th>\n",
       "      <th>p-tukey</th>\n",
       "      <th>hedges</th>\n",
       "      <th>Significance</th>\n",
       "    </tr>\n",
       "  </thead>\n",
       "  <tbody>\n",
       "    <tr>\n",
       "      <th>0</th>\n",
       "      <td>C3</td>\n",
       "      <td>Cu</td>\n",
       "      <td>19.023249</td>\n",
       "      <td>24.030344</td>\n",
       "      <td>-5.007095</td>\n",
       "      <td>16.738023</td>\n",
       "      <td>-0.299145</td>\n",
       "      <td>0.952254</td>\n",
       "      <td>-0.527827</td>\n",
       "      <td>ns</td>\n",
       "    </tr>\n",
       "    <tr>\n",
       "      <th>1</th>\n",
       "      <td>C3</td>\n",
       "      <td>KR3</td>\n",
       "      <td>19.023249</td>\n",
       "      <td>137.861944</td>\n",
       "      <td>-118.838695</td>\n",
       "      <td>16.738023</td>\n",
       "      <td>-7.099924</td>\n",
       "      <td>0.000957</td>\n",
       "      <td>-3.793625</td>\n",
       "      <td>***</td>\n",
       "    </tr>\n",
       "    <tr>\n",
       "      <th>2</th>\n",
       "      <td>Cu</td>\n",
       "      <td>KR3</td>\n",
       "      <td>24.030344</td>\n",
       "      <td>137.861944</td>\n",
       "      <td>-113.831600</td>\n",
       "      <td>16.738023</td>\n",
       "      <td>-6.800779</td>\n",
       "      <td>0.001206</td>\n",
       "      <td>-3.797374</td>\n",
       "      <td>**</td>\n",
       "    </tr>\n",
       "  </tbody>\n",
       "</table>\n",
       "</div>"
      ],
      "text/plain": [
       "    A    B    mean(A)     mean(B)        diff         se         T   p-tukey  \\\n",
       "0  C3   Cu  19.023249   24.030344   -5.007095  16.738023 -0.299145  0.952254   \n",
       "1  C3  KR3  19.023249  137.861944 -118.838695  16.738023 -7.099924  0.000957   \n",
       "2  Cu  KR3  24.030344  137.861944 -113.831600  16.738023 -6.800779  0.001206   \n",
       "\n",
       "     hedges Significance  \n",
       "0 -0.527827           ns  \n",
       "1 -3.793625          ***  \n",
       "2 -3.797374           **  "
      ]
     },
     "execution_count": 14,
     "metadata": {},
     "output_type": "execute_result"
    }
   ],
   "source": [
    "a = pg.pairwise_tukey(data = df2, dv = \"Partioning\", between = \"Type\")\n",
    "a[\"Significance\"] = a['p-tukey'].apply(significance_stars)\n",
    "a"
   ]
  },
  {
   "cell_type": "code",
   "execution_count": null,
   "metadata": {},
   "outputs": [],
   "source": []
  }
 ],
 "metadata": {
  "kernelspec": {
   "display_name": "Munich",
   "language": "python",
   "name": "python3"
  },
  "language_info": {
   "codemirror_mode": {
    "name": "ipython",
    "version": 3
   },
   "file_extension": ".py",
   "mimetype": "text/x-python",
   "name": "python",
   "nbconvert_exporter": "python",
   "pygments_lexer": "ipython3",
   "version": "3.9.15"
  }
 },
 "nbformat": 4,
 "nbformat_minor": 2
}
