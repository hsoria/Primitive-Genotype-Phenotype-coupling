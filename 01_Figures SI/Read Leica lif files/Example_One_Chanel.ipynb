{
 "cells": [
  {
   "cell_type": "code",
   "execution_count": null,
   "metadata": {},
   "outputs": [],
   "source": [
    "import numpy as np\n",
    "import matplotlib.pyplot as plt\n",
    "import seaborn as sns\n",
    "import pandas as pd\n",
    "\n",
    "from matplotlib.colors import Normalize\n",
    "from skimage.restoration import rolling_ball \n",
    "from skimage.io import imread, imshow\n",
    "from readlif.reader import LifFile\n",
    "\n",
    "from PIL import Image, ImageDraw, ImageFont\n",
    "import os, glob\n",
    "import math\n",
    "import re\n",
    "\n",
    "import Image_analysis_magma as magma\n",
    "\n",
    "colors = [  \"#56B4E9\", \"#009E73\", \"#CC79A7\", \"#999999\", \"#E69F00\",\n",
    "            \"#DB2B39\", \"#0076A1\", \"#0072B2\", \"#1A5042\",\"#0C1713\"]\n",
    "palette = sns.color_palette(colors)\n",
    "\n",
    "sns.set_theme(context='notebook', style='ticks', font='Roboto-Light', \n",
    "              font_scale=1.3, \n",
    "              rc={\"lines.linewidth\": 1.6, 'axes.linewidth':1.6, \n",
    "                  \"xtick.major.width\":1.6,\"ytick.major.width\":1.6}, \n",
    "              palette=palette)\n",
    "sns.color_palette(colors)"
   ]
  },
  {
   "cell_type": "markdown",
   "metadata": {},
   "source": [
    "### Nomenclature \n",
    "- Files to be read are .lif and consists of one channel for fluorescence and other for bright field\n",
    "- Files are named like \"experiment1_5min30sec_data.lif\" where \"5min30sec\" indicates the time point where imaging started"
   ]
  },
  {
   "cell_type": "code",
   "execution_count": null,
   "metadata": {},
   "outputs": [],
   "source": [
    "\n",
    "def convert_time_to_seconds(filename):\n",
    "    time_pattern = re.compile(r'(\\d+)min(\\d+)sec')\n",
    "    \n",
    "    # Search for the pattern in the filename\n",
    "    match = time_pattern.search(filename)\n",
    "    if match:\n",
    "        minutes = int(match.group(1))\n",
    "        seconds = int(match.group(2))\n",
    "        \n",
    "        # Convert minutes and seconds to total seconds\n",
    "        total_seconds = minutes * 60 + seconds\n",
    "        \n",
    "        # Create the new filename with total seconds\n",
    "        new_filename = time_pattern.sub(f'{total_seconds}sec', filename)\n",
    "        \n",
    "        return new_filename\n",
    "    else:\n",
    "        # If the pattern is not found, return the original filename\n",
    "        return filename\n",
    "\n"
   ]
  },
  {
   "cell_type": "markdown",
   "metadata": {},
   "source": [
    "### Asthetics"
   ]
  },
  {
   "cell_type": "code",
   "execution_count": null,
   "metadata": {},
   "outputs": [],
   "source": [
    "colors = [  \"#56B4E9\", \"#009E73\", \"#CC79A7\", \"#999999\", \"#E69F00\",\"#DB2B39\", \"#0076A1\", \"#0072B2\", \"#1A5042\",\"#0C1713\"]\n",
    "palette = sns.color_palette(colors)\n",
    "\n",
    "sns.set_theme(context='notebook', style='ticks', font='Arial', \n",
    "              font_scale=1.3, \n",
    "              rc={\"lines.linewidth\": 1.6, 'axes.linewidth':1.6, \n",
    "                                  \"xtick.major.width\":1.6,\"ytick.major.width\":1.6}, \n",
    "              palette = palette)\n",
    "sns.color_palette(colors)"
   ]
  },
  {
   "cell_type": "code",
   "execution_count": null,
   "metadata": {},
   "outputs": [],
   "source": []
  },
  {
   "cell_type": "markdown",
   "metadata": {},
   "source": [
    "### Analysis"
   ]
  },
  {
   "cell_type": "code",
   "execution_count": null,
   "metadata": {},
   "outputs": [],
   "source": [
    "\n",
    "file_name = \"HS-E-53-03-1min47sec.lif\"\n",
    "filename = LifFile(file_name)\n",
    "filename = LifFile(file_name)\n",
    "\n",
    "focus = float(convert_time_to_seconds(file_name.split(\"-\")[-1].replace(\".lif\", \"\")).replace(\"sec\", \"\"))\n",
    "\n",
    "results = magma.process_multiple_file_kinetics_merge_mean(leica_file = file_name, \n",
    "                            t_focus=focus, rolling_radius = 50)\n",
    "\n"
   ]
  },
  {
   "cell_type": "markdown",
   "metadata": {},
   "source": [
    "### Results is an list contaning:\n",
    "\n",
    "- stacks: Images processed on the fluorescent channel as python-friendly format (numpy) \n",
    "\n",
    "- t_column: time lapses. This is each time point of the series starting from \"focus\"\n",
    "\n",
    "- images: PIL images of the stack. Ready to be exported\n",
    "\n",
    "- GIF of all the images. This is saved automatically. "
   ]
  },
  {
   "cell_type": "code",
   "execution_count": null,
   "metadata": {},
   "outputs": [],
   "source": [
    "pixel_ratio = filename.get_image().info[\"scale\"][0] # How to convert pixels to microns\n",
    "times = sorted(results[1])\n"
   ]
  },
  {
   "cell_type": "markdown",
   "metadata": {},
   "source": [
    "### Images\n",
    "\n",
    "1. Mosaic\n",
    "\n",
    "2. Get only one image"
   ]
  },
  {
   "cell_type": "code",
   "execution_count": null,
   "metadata": {},
   "outputs": [],
   "source": [
    "magma.create_mosaic(results[2], filename=\"LysArg_click_timelapse\")"
   ]
  },
  {
   "cell_type": "code",
   "execution_count": null,
   "metadata": {},
   "outputs": [],
   "source": [
    "magma.get_one_image(results[2], index = 30, file_name=\"\", save=False)\n"
   ]
  },
  {
   "cell_type": "code",
   "execution_count": null,
   "metadata": {},
   "outputs": [],
   "source": [
    "magma.get_one_image(results[2], index = -1, file_name=\"01_Cys_Click_7min\", save=True)"
   ]
  },
  {
   "cell_type": "code",
   "execution_count": null,
   "metadata": {},
   "outputs": [],
   "source": []
  }
 ],
 "metadata": {
  "kernelspec": {
   "display_name": "Munich",
   "language": "python",
   "name": "python3"
  },
  "language_info": {
   "codemirror_mode": {
    "name": "ipython",
    "version": 3
   },
   "file_extension": ".py",
   "mimetype": "text/x-python",
   "name": "python",
   "nbconvert_exporter": "python",
   "pygments_lexer": "ipython3",
   "version": "3.9.15"
  },
  "toc": {
   "base_numbering": 1,
   "nav_menu": {},
   "number_sections": true,
   "sideBar": true,
   "skip_h1_title": false,
   "title_cell": "Table of Contents",
   "title_sidebar": "Contents",
   "toc_cell": false,
   "toc_position": {},
   "toc_section_display": true,
   "toc_window_display": false
  }
 },
 "nbformat": 4,
 "nbformat_minor": 2
}
