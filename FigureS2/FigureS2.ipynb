{
 "cells": [
  {
   "cell_type": "code",
   "execution_count": null,
   "metadata": {},
   "outputs": [],
   "source": []
  },
  {
   "cell_type": "markdown",
   "metadata": {},
   "source": [
    "# Figure S2\n",
    "\n",
    "All plots in the manuscript are done with DPI = 600. In the jupyter notebook I changed it to *200*\n"
   ]
  },
  {
   "cell_type": "code",
   "execution_count": 24,
   "metadata": {},
   "outputs": [],
   "source": [
    "\n",
    "from scipy.integrate import odeint, solve_ivp, lsoda\n",
    "from scipy.optimize import minimize\n",
    "from scipy.optimize import curve_fit\n",
    "import numpy as np\n",
    "from scipy.integrate import odeint\n",
    "import matplotlib.pyplot as plt\n",
    "import pandas as pd\n",
    "import seaborn as sns\n",
    "\n",
    "\n",
    "\n",
    "import scipy.optimize\n",
    "from matplotlib.ticker import FormatStrFormatter\n",
    "import matplotlib.ticker as tkr\n",
    "import scipy.stats as st\n",
    "from scipy.stats import scoreatpercentile\n",
    "\n",
    "from scipy.integrate import odeint, solve_ivp, lsoda\n",
    "from scipy.optimize import minimize\n",
    "from scipy.optimize import curve_fit\n",
    "from lmfit import Parameters, minimize, Model, report_fit, conf_interval\n",
    "from sklearn.metrics import mean_squared_error\n",
    "\n",
    "import glob\n",
    "\n",
    "def significance_stars(p_value):\n",
    "    if p_value < 0.001:\n",
    "        return '***'\n",
    "    elif p_value < 0.01:\n",
    "        return '**'\n",
    "    elif p_value < 0.05:\n",
    "        return '*'\n",
    "    else:\n",
    "        return 'ns'\n"
   ]
  },
  {
   "cell_type": "markdown",
   "metadata": {},
   "source": [
    "# Asthetics"
   ]
  },
  {
   "cell_type": "code",
   "execution_count": 2,
   "metadata": {},
   "outputs": [
    {
     "data": {
      "text/html": [
       "<svg  width=\"605\" height=\"55\"><rect x=\"0\" y=\"0\" width=\"55\" height=\"55\" style=\"fill:#56b4e9;stroke-width:2;stroke:rgb(255,255,255)\"/><rect x=\"55\" y=\"0\" width=\"55\" height=\"55\" style=\"fill:#009e73;stroke-width:2;stroke:rgb(255,255,255)\"/><rect x=\"110\" y=\"0\" width=\"55\" height=\"55\" style=\"fill:#cc79a7;stroke-width:2;stroke:rgb(255,255,255)\"/><rect x=\"165\" y=\"0\" width=\"55\" height=\"55\" style=\"fill:#999999;stroke-width:2;stroke:rgb(255,255,255)\"/><rect x=\"220\" y=\"0\" width=\"55\" height=\"55\" style=\"fill:#e69f00;stroke-width:2;stroke:rgb(255,255,255)\"/><rect x=\"275\" y=\"0\" width=\"55\" height=\"55\" style=\"fill:#db2b39;stroke-width:2;stroke:rgb(255,255,255)\"/><rect x=\"330\" y=\"0\" width=\"55\" height=\"55\" style=\"fill:#0076a1;stroke-width:2;stroke:rgb(255,255,255)\"/><rect x=\"385\" y=\"0\" width=\"55\" height=\"55\" style=\"fill:#0072b2;stroke-width:2;stroke:rgb(255,255,255)\"/><rect x=\"440\" y=\"0\" width=\"55\" height=\"55\" style=\"fill:#1a5042;stroke-width:2;stroke:rgb(255,255,255)\"/><rect x=\"495\" y=\"0\" width=\"55\" height=\"55\" style=\"fill:#0c1713;stroke-width:2;stroke:rgb(255,255,255)\"/><rect x=\"550\" y=\"0\" width=\"55\" height=\"55\" style=\"fill:#6a6969;stroke-width:2;stroke:rgb(255,255,255)\"/></svg>"
      ],
      "text/plain": [
       "[(0.33725490196078434, 0.7058823529411765, 0.9137254901960784),\n",
       " (0.0, 0.6196078431372549, 0.45098039215686275),\n",
       " (0.8, 0.4745098039215686, 0.6549019607843137),\n",
       " (0.6, 0.6, 0.6),\n",
       " (0.9019607843137255, 0.6235294117647059, 0.0),\n",
       " (0.8588235294117647, 0.16862745098039217, 0.2235294117647059),\n",
       " (0.0, 0.4627450980392157, 0.6313725490196078),\n",
       " (0.0, 0.4470588235294118, 0.6980392156862745),\n",
       " (0.10196078431372549, 0.3137254901960784, 0.25882352941176473),\n",
       " (0.047058823529411764, 0.09019607843137255, 0.07450980392156863),\n",
       " (0.41568627450980394, 0.4117647058823529, 0.4117647058823529)]"
      ]
     },
     "execution_count": 2,
     "metadata": {},
     "output_type": "execute_result"
    }
   ],
   "source": [
    "colors = [  \"#56B4E9\", \"#009E73\", \"#CC79A7\", \"#999999\", \"#E69F00\",\"#DB2B39\", \"#0076A1\", \"#0072B2\", \"#1A5042\",\"#0C1713\", \"#6A6969\"]\n",
    "palette = sns.color_palette(colors)\n",
    "n = 1\n",
    "\n",
    "sns.set_theme(context='notebook', style='ticks', font='Arial', \n",
    "              font_scale=1.3, \n",
    "              rc={\"lines.linewidth\": n, 'axes.linewidth':n, \n",
    "                                  \"xtick.major.width\":n,\"ytick.major.width\":n}, \n",
    "              palette = palette)\n",
    "sns.color_palette(colors)"
   ]
  },
  {
   "cell_type": "markdown",
   "metadata": {},
   "source": [
    "# Data"
   ]
  },
  {
   "cell_type": "code",
   "execution_count": 23,
   "metadata": {},
   "outputs": [],
   "source": [
    "a = pd.read_csv(\"FigureS2.csv\")\n"
   ]
  },
  {
   "cell_type": "code",
   "execution_count": 18,
   "metadata": {},
   "outputs": [],
   "source": [
    "df1 = a.query(\"Seed_mM == 0\")\n",
    "df2 = a.query(\"Seed_mM == 0.2\")\n",
    "df3 = a.query(\"Seed_mM == 0.5\")\n"
   ]
  },
  {
   "cell_type": "code",
   "execution_count": 19,
   "metadata": {},
   "outputs": [],
   "source": [
    "def sigmoid(x, x0, k, a, b):\n",
    "    y = (a-b) / (1 + np.exp(-k*(x-x0)))\n",
    "    return y\n",
    "def fit_sigmoid(df, p0):\n",
    "    i = df[['time','T']].dropna(how = \"any\").reset_index(drop = True)\n",
    "    popt, pcov = curve_fit(sigmoid, \n",
    "                           i['time'].values,\n",
    "                           i['T'].values,method='lm',\n",
    "                           p0 = p0)\n",
    "    t50 = popt[0]\n",
    "    ks = 1/popt[1]\n",
    "    lag = t50 - 2*ks\n",
    "\n",
    "    results_fit = t50, ks, lag\n",
    "\n",
    "    xfit = np.linspace(0, i['time'].max(), 1000)\n",
    "    yfit = sigmoid(xfit, *popt)\n",
    "    df_fit = pd.DataFrame({'xfit': xfit, 'yfit':yfit})\n",
    "    return results_fit, df_fit\n"
   ]
  },
  {
   "cell_type": "code",
   "execution_count": 20,
   "metadata": {},
   "outputs": [],
   "source": [
    "f1 = fit_sigmoid(df1, p0 = (.1, 0,1,0))\n",
    "f2 = fit_sigmoid(df2, p0 = (.1, 0,1,0))\n",
    "f3 = fit_sigmoid(df3, p0 = (.1, 0,1,0))"
   ]
  },
  {
   "cell_type": "code",
   "execution_count": 22,
   "metadata": {},
   "outputs": [
    {
     "data": {
      "image/png": "[encoded data removed]",
      "text/plain": [
       "<Figure size 430x400 with 1 Axes>"
      ]
     },
     "metadata": {},
     "output_type": "display_data"
    }
   ],
   "source": [
    "d = [df1, df2, df3]\n",
    "\n",
    "\n",
    "fig, ax = plt.subplots(figsize = (2.15,2), dpi = 200)\n",
    "\n",
    "i = 10\n",
    "sns.scatterplot(data=d[0], x=\"time\", y=\"T\", ax=ax, color=\"C2\", s=i, alpha=0.8, edgecolor=\"none\")\n",
    "ax.plot(f1[1][\"xfit\"], f1[1][\"yfit\"], c = \"C2\", alpha = 0.5)\n",
    "\n",
    "sns.scatterplot(data=d[1], x=\"time\", y=\"T\", ax=ax, color=\"#AB79A7\", s=i, alpha=0.8, edgecolor=\"none\")\n",
    "ax.plot(f2[1][\"xfit\"], f2[1][\"yfit\"], c = \"#AB79A7\", alpha = 0.5)\n",
    "\n",
    "sns.scatterplot(data=d[2], x=\"time\", y=\"T\", ax=ax, color=\"#8A79A7\", s=i, alpha=0.8, edgecolor=\"none\")\n",
    "ax.plot(f3[1][\"xfit\"], f3[1][\"yfit\"], c = \"#8A79A7\", alpha = 0.5)\n",
    "\n",
    "ax.set(xlabel = \"\", ylabel = \"\", \n",
    "        xticks = np.linspace(0, 16, 3),xlim =  (-1, 17), \n",
    "        yticks = np.linspace(0, 2, 3), ylim = (-.15, 2.))\n",
    "\n",
    "\n",
    "sns.despine(fig, top=True, right=True)\n",
    "plt.tight_layout()"
   ]
  },
  {
   "cell_type": "code",
   "execution_count": null,
   "metadata": {},
   "outputs": [],
   "source": []
  }
 ],
 "metadata": {
  "kernelspec": {
   "display_name": "Munich",
   "language": "python",
   "name": "python3"
  },
  "language_info": {
   "codemirror_mode": {
    "name": "ipython",
    "version": 3
   },
   "file_extension": ".py",
   "mimetype": "text/x-python",
   "name": "python",
   "nbconvert_exporter": "python",
   "pygments_lexer": "ipython3",
   "version": "3.9.15"
  }
 },
 "nbformat": 4,
 "nbformat_minor": 2
}
