{
 "cells": [
  {
   "cell_type": "code",
   "execution_count": 1,
   "metadata": {},
   "outputs": [],
   "source": [
    "\n",
    "from scipy.integrate import odeint, solve_ivp, lsoda\n",
    "from scipy.optimize import minimize\n",
    "from scipy.optimize import curve_fit\n",
    "from lmfit import Parameters, minimize, Model, report_fit, conf_interval\n",
    "from sklearn.metrics import mean_squared_error\n",
    "import numdifftools\n",
    "from PIL import Image\n",
    "from sklearn.metrics import r2_score\n",
    "import numpy as np\n",
    "from scipy.integrate import odeint\n",
    "import matplotlib.pyplot as plt\n",
    "import pandas as pd\n",
    "import seaborn as sns\n",
    "\n",
    "\n",
    "\n",
    "import scipy.optimize\n",
    "from matplotlib.ticker import FormatStrFormatter\n",
    "import matplotlib.ticker as tkr\n",
    "import scipy.stats as st\n",
    "from scipy.stats import scoreatpercentile\n",
    "\n",
    "\n",
    "\n",
    "import glob\n"
   ]
  },
  {
   "cell_type": "markdown",
   "metadata": {},
   "source": [
    "# Asthetics"
   ]
  },
  {
   "cell_type": "code",
   "execution_count": 2,
   "metadata": {},
   "outputs": [
    {
     "data": {
      "text/html": [
       "<svg  width=\"550\" height=\"55\"><rect x=\"0\" y=\"0\" width=\"55\" height=\"55\" style=\"fill:#56b4e9;stroke-width:2;stroke:rgb(255,255,255)\"/><rect x=\"55\" y=\"0\" width=\"55\" height=\"55\" style=\"fill:#009e73;stroke-width:2;stroke:rgb(255,255,255)\"/><rect x=\"110\" y=\"0\" width=\"55\" height=\"55\" style=\"fill:#cc79a7;stroke-width:2;stroke:rgb(255,255,255)\"/><rect x=\"165\" y=\"0\" width=\"55\" height=\"55\" style=\"fill:#999999;stroke-width:2;stroke:rgb(255,255,255)\"/><rect x=\"220\" y=\"0\" width=\"55\" height=\"55\" style=\"fill:#e69f00;stroke-width:2;stroke:rgb(255,255,255)\"/><rect x=\"275\" y=\"0\" width=\"55\" height=\"55\" style=\"fill:#db2b39;stroke-width:2;stroke:rgb(255,255,255)\"/><rect x=\"330\" y=\"0\" width=\"55\" height=\"55\" style=\"fill:#0076a1;stroke-width:2;stroke:rgb(255,255,255)\"/><rect x=\"385\" y=\"0\" width=\"55\" height=\"55\" style=\"fill:#0072b2;stroke-width:2;stroke:rgb(255,255,255)\"/><rect x=\"440\" y=\"0\" width=\"55\" height=\"55\" style=\"fill:#1a5042;stroke-width:2;stroke:rgb(255,255,255)\"/><rect x=\"495\" y=\"0\" width=\"55\" height=\"55\" style=\"fill:#0c1713;stroke-width:2;stroke:rgb(255,255,255)\"/></svg>"
      ],
      "text/plain": [
       "[(0.33725490196078434, 0.7058823529411765, 0.9137254901960784),\n",
       " (0.0, 0.6196078431372549, 0.45098039215686275),\n",
       " (0.8, 0.4745098039215686, 0.6549019607843137),\n",
       " (0.6, 0.6, 0.6),\n",
       " (0.9019607843137255, 0.6235294117647059, 0.0),\n",
       " (0.8588235294117647, 0.16862745098039217, 0.2235294117647059),\n",
       " (0.0, 0.4627450980392157, 0.6313725490196078),\n",
       " (0.0, 0.4470588235294118, 0.6980392156862745),\n",
       " (0.10196078431372549, 0.3137254901960784, 0.25882352941176473),\n",
       " (0.047058823529411764, 0.09019607843137255, 0.07450980392156863)]"
      ]
     },
     "execution_count": 2,
     "metadata": {},
     "output_type": "execute_result"
    }
   ],
   "source": [
    "colors = [  \"#56B4E9\", \"#009E73\", \"#CC79A7\", \"#999999\", \"#E69F00\",\"#DB2B39\", \"#0076A1\", \"#0072B2\", \"#1A5042\",\"#0C1713\"]\n",
    "palette = sns.color_palette(colors)\n",
    "\n",
    "sns.set_theme(context='notebook', style='ticks', font='Arial', \n",
    "              font_scale=1.3, \n",
    "              rc={\"lines.linewidth\": 1., 'axes.linewidth':1., \n",
    "                                  \"xtick.major.width\":1.,\"ytick.major.width\":1.}, \n",
    "              palette = palette)\n",
    "sns.color_palette(colors)"
   ]
  },
  {
   "cell_type": "code",
   "execution_count": 26,
   "metadata": {},
   "outputs": [],
   "source": [
    "\n",
    "import matplotlib as mpl\n",
    "\n",
    "def colorFader(c1, c2, mix=0):\n",
    "    c1 = np.array(mpl.colors.to_rgb(c1))\n",
    "    c2 = np.array(mpl.colors.to_rgb(c2))\n",
    "    return tuple((1 - mix) * c1 + mix * c2)\n",
    "\n",
    "def gradientFader(c1, c2, n):\n",
    "    n = n-1\n",
    "    gradient = []\n",
    "    for x in range(n + 1):\n",
    "        gradient.append(colorFader(c1, c2, x / n))\n",
    "    return gradient\n",
    "\n"
   ]
  },
  {
   "cell_type": "code",
   "execution_count": 27,
   "metadata": {},
   "outputs": [],
   "source": [
    "df2 = pd.read_csv(\"FigureS22.csv\")"
   ]
  },
  {
   "cell_type": "code",
   "execution_count": 31,
   "metadata": {},
   "outputs": [
    {
     "name": "stderr",
     "output_type": "stream",
     "text": [
      "/var/folders/tx/jcz7yt1s7tdg8h231t9g2zx40000gn/T/ipykernel_20724/1413121801.py:8: FutureWarning: \n",
      "\n",
      "Setting a gradient palette using color= is deprecated and will be removed in v0.14.0. Set `palette='dark:#0C1713'` for the same effect.\n",
      "\n",
      "  sns.stripplot(data = df2.query(\"Azide_1 == 'R'\"), x = \"Type\", y = \"value\", color = \"#0C1713\", hue = \"variable\", dodge=True, size = 5, legend = False)\n"
     ]
    },
    {
     "data": {
      "text/plain": [
       "[Text(0.5, 0, ''),\n",
       " Text(0, 0.5, ''),\n",
       " [<matplotlib.axis.YTick at 0x7fea2804f1c0>,\n",
       "  <matplotlib.axis.YTick at 0x7fea28047b20>,\n",
       "  <matplotlib.axis.YTick at 0x7fea723deeb0>]]"
      ]
     },
     "execution_count": 31,
     "metadata": {},
     "output_type": "execute_result"
    },
    {
     "data": {
      "image/png": "[encoded data removed]",
      "text/plain": [
       "<Figure size 215x200 with 1 Axes>"
      ]
     },
     "metadata": {},
     "output_type": "display_data"
    }
   ],
   "source": [
    "c1 = 'C0'\n",
    "c2 = 'C4'\n",
    "\n",
    "gradient = gradientFader(c1, c2, n = 4)\n",
    "fig, ax = plt.subplots(figsize = (2.15,2), dpi = 100)\n",
    "sns.despine(fig, top = True, right = True)\n",
    "\n",
    "sns.stripplot(data = df2.query(\"Azide_1 == 'R'\"), x = \"Type\", y = \"value\", color = \"#0C1713\", hue = \"variable\", dodge=True, size = 5, legend = False)\n",
    "sns.barplot(data = df2.query(\"Azide_1 == 'R' \"), x = \"Type\", y = \"value\", errorbar=None, palette=gradient, hue = \"variable\", legend = False)\n",
    "\n",
    "ax.set(xlabel = \"\", ylabel = \"\", yticks = np.linspace(0, 50, 3))\n"
   ]
  },
  {
   "cell_type": "code",
   "execution_count": 32,
   "metadata": {},
   "outputs": [
    {
     "name": "stderr",
     "output_type": "stream",
     "text": [
      "/var/folders/tx/jcz7yt1s7tdg8h231t9g2zx40000gn/T/ipykernel_20724/2605502995.py:8: FutureWarning: \n",
      "\n",
      "Setting a gradient palette using color= is deprecated and will be removed in v0.14.0. Set `palette='dark:#0C1713'` for the same effect.\n",
      "\n",
      "  sns.stripplot(data = df2.query(\"Azide_1 == 'G'\"), x = \"Type\", y = \"value\", color = \"#0C1713\", hue = \"variable\", dodge=True, size = 5, legend = False)\n"
     ]
    },
    {
     "data": {
      "text/plain": [
       "[Text(0.5, 0, ''),\n",
       " Text(0, 0.5, ''),\n",
       " [<matplotlib.axis.YTick at 0x7fea6a83d7f0>,\n",
       "  <matplotlib.axis.YTick at 0x7fea6a82df70>,\n",
       "  <matplotlib.axis.YTick at 0x7fea7240c970>]]"
      ]
     },
     "execution_count": 32,
     "metadata": {},
     "output_type": "execute_result"
    },
    {
     "data": {
      "image/png": "[encoded data removed]",
      "text/plain": [
       "<Figure size 215x200 with 1 Axes>"
      ]
     },
     "metadata": {},
     "output_type": "display_data"
    }
   ],
   "source": [
    "\n",
    "c1 = 'C1'\n",
    "c2 = 'C4'\n",
    "\n",
    "gradient = gradientFader(c1, c2, n = 4)\n",
    "fig, ax = plt.subplots(figsize = (2.15,2), dpi = 100)\n",
    "sns.despine(fig, top = True, right = True)\n",
    "\n",
    "sns.stripplot(data = df2.query(\"Azide_1 == 'G'\"), x = \"Type\", y = \"value\", color = \"#0C1713\", hue = \"variable\", dodge=True, size = 5, legend = False)\n",
    "sns.barplot(data = df2.query(\"Azide_1 == 'G' \"), x = \"Type\", y = \"value\", errorbar=None, palette=gradient, hue = \"variable\", legend = False)\n",
    "\n",
    "ax.set(xlabel = \"\", ylabel = \"\", yticks = np.linspace(0, 50, 3))\n"
   ]
  },
  {
   "cell_type": "code",
   "execution_count": 33,
   "metadata": {},
   "outputs": [
    {
     "name": "stderr",
     "output_type": "stream",
     "text": [
      "/var/folders/tx/jcz7yt1s7tdg8h231t9g2zx40000gn/T/ipykernel_20724/3315077793.py:8: FutureWarning: \n",
      "\n",
      "Setting a gradient palette using color= is deprecated and will be removed in v0.14.0. Set `palette='dark:#0C1713'` for the same effect.\n",
      "\n",
      "  sns.stripplot(data = df2.query(\"Azide_1 == 'C'\"), x = \"Type\", y = \"value\", color = \"#0C1713\", hue = \"variable\", dodge=True, size = 5, legend = False)\n"
     ]
    },
    {
     "data": {
      "text/plain": [
       "[Text(0.5, 0, ''),\n",
       " Text(0, 0.5, ''),\n",
       " [<matplotlib.axis.YTick at 0x7fea8b753460>,\n",
       "  <matplotlib.axis.YTick at 0x7fea8b760bb0>,\n",
       "  <matplotlib.axis.YTick at 0x7fea79e06dc0>]]"
      ]
     },
     "execution_count": 33,
     "metadata": {},
     "output_type": "execute_result"
    },
    {
     "data": {
      "image/png": "[encoded data removed]",
      "text/plain": [
       "<Figure size 215x200 with 1 Axes>"
      ]
     },
     "metadata": {},
     "output_type": "display_data"
    }
   ],
   "source": [
    "c1 = 'C2'\n",
    "c2 = 'C4'\n",
    "\n",
    "gradient = gradientFader(c1, c2, n = 4)\n",
    "fig, ax = plt.subplots(figsize = (2.15,2), dpi = 100)\n",
    "sns.despine(fig, top = True, right = True)\n",
    "\n",
    "sns.stripplot(data = df2.query(\"Azide_1 == 'C'\"), x = \"Type\", y = \"value\", color = \"#0C1713\", hue = \"variable\", dodge=True, size = 5, legend = False)\n",
    "sns.barplot(data = df2.query(\"Azide_1 == 'C' \"), x = \"Type\", y = \"value\", errorbar=None, palette=gradient, hue = \"variable\", legend = False)\n",
    "\n",
    "ax.set(xlabel = \"\", ylabel = \"\", yticks = np.linspace(0, 50, 3))\n"
   ]
  },
  {
   "cell_type": "code",
   "execution_count": null,
   "metadata": {},
   "outputs": [],
   "source": []
  }
 ],
 "metadata": {
  "kernelspec": {
   "display_name": "Munich",
   "language": "python",
   "name": "python3"
  },
  "language_info": {
   "codemirror_mode": {
    "name": "ipython",
    "version": 3
   },
   "file_extension": ".py",
   "mimetype": "text/x-python",
   "name": "python",
   "nbconvert_exporter": "python",
   "pygments_lexer": "ipython3",
   "version": "3.9.15"
  }
 },
 "nbformat": 4,
 "nbformat_minor": 2
}
