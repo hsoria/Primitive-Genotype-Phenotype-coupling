{
 "cells": [
  {
   "cell_type": "markdown",
   "metadata": {},
   "source": [
    "# Figure S6"
   ]
  },
  {
   "cell_type": "code",
   "execution_count": 1,
   "metadata": {},
   "outputs": [],
   "source": [
    "\n",
    "from scipy.integrate import odeint, solve_ivp, lsoda\n",
    "from scipy.optimize import minimize\n",
    "from scipy.optimize import curve_fit\n",
    "import numpy as np\n",
    "from scipy.integrate import odeint\n",
    "import matplotlib.pyplot as plt\n",
    "import pandas as pd\n",
    "import seaborn as sns\n",
    "\n",
    "\n",
    "\n",
    "import scipy.optimize\n",
    "from matplotlib.ticker import FormatStrFormatter\n",
    "import matplotlib.ticker as tkr\n",
    "import scipy.stats as st\n",
    "from scipy.stats import scoreatpercentile\n",
    "\n",
    "from scipy.integrate import odeint, solve_ivp, lsoda\n",
    "from scipy.optimize import minimize\n",
    "from scipy.optimize import curve_fit\n",
    "from lmfit import Parameters, minimize, Model, report_fit, conf_interval\n",
    "from sklearn.metrics import mean_squared_error\n",
    "\n",
    "import glob\n",
    "\n",
    "def significance_stars(p_value):\n",
    "    if p_value < 0.001:\n",
    "        return '***'\n",
    "    elif p_value < 0.01:\n",
    "        return '**'\n",
    "    elif p_value < 0.05:\n",
    "        return '*'\n",
    "    else:\n",
    "        return 'ns'\n",
    "#import Aspartic_Fitter as fitter\n",
    "#"
   ]
  },
  {
   "cell_type": "markdown",
   "metadata": {},
   "source": [
    "# Asthetics"
   ]
  },
  {
   "cell_type": "code",
   "execution_count": 2,
   "metadata": {},
   "outputs": [
    {
     "data": {
      "text/html": [
       "<svg  width=\"605\" height=\"55\"><rect x=\"0\" y=\"0\" width=\"55\" height=\"55\" style=\"fill:#56b4e9;stroke-width:2;stroke:rgb(255,255,255)\"/><rect x=\"55\" y=\"0\" width=\"55\" height=\"55\" style=\"fill:#009e73;stroke-width:2;stroke:rgb(255,255,255)\"/><rect x=\"110\" y=\"0\" width=\"55\" height=\"55\" style=\"fill:#cc79a7;stroke-width:2;stroke:rgb(255,255,255)\"/><rect x=\"165\" y=\"0\" width=\"55\" height=\"55\" style=\"fill:#999999;stroke-width:2;stroke:rgb(255,255,255)\"/><rect x=\"220\" y=\"0\" width=\"55\" height=\"55\" style=\"fill:#e69f00;stroke-width:2;stroke:rgb(255,255,255)\"/><rect x=\"275\" y=\"0\" width=\"55\" height=\"55\" style=\"fill:#db2b39;stroke-width:2;stroke:rgb(255,255,255)\"/><rect x=\"330\" y=\"0\" width=\"55\" height=\"55\" style=\"fill:#0076a1;stroke-width:2;stroke:rgb(255,255,255)\"/><rect x=\"385\" y=\"0\" width=\"55\" height=\"55\" style=\"fill:#0072b2;stroke-width:2;stroke:rgb(255,255,255)\"/><rect x=\"440\" y=\"0\" width=\"55\" height=\"55\" style=\"fill:#1a5042;stroke-width:2;stroke:rgb(255,255,255)\"/><rect x=\"495\" y=\"0\" width=\"55\" height=\"55\" style=\"fill:#0c1713;stroke-width:2;stroke:rgb(255,255,255)\"/><rect x=\"550\" y=\"0\" width=\"55\" height=\"55\" style=\"fill:#6a6969;stroke-width:2;stroke:rgb(255,255,255)\"/></svg>"
      ],
      "text/plain": [
       "[(0.33725490196078434, 0.7058823529411765, 0.9137254901960784),\n",
       " (0.0, 0.6196078431372549, 0.45098039215686275),\n",
       " (0.8, 0.4745098039215686, 0.6549019607843137),\n",
       " (0.6, 0.6, 0.6),\n",
       " (0.9019607843137255, 0.6235294117647059, 0.0),\n",
       " (0.8588235294117647, 0.16862745098039217, 0.2235294117647059),\n",
       " (0.0, 0.4627450980392157, 0.6313725490196078),\n",
       " (0.0, 0.4470588235294118, 0.6980392156862745),\n",
       " (0.10196078431372549, 0.3137254901960784, 0.25882352941176473),\n",
       " (0.047058823529411764, 0.09019607843137255, 0.07450980392156863),\n",
       " (0.41568627450980394, 0.4117647058823529, 0.4117647058823529)]"
      ]
     },
     "execution_count": 2,
     "metadata": {},
     "output_type": "execute_result"
    }
   ],
   "source": [
    "colors = [  \"#56B4E9\", \"#009E73\", \"#CC79A7\", \"#999999\", \"#E69F00\",\"#DB2B39\", \"#0076A1\", \"#0072B2\", \"#1A5042\",\"#0C1713\", \"#6A6969\"]\n",
    "palette = sns.color_palette(colors)\n",
    "n = 1\n",
    "\n",
    "sns.set_theme(context='notebook', style='ticks', font='Arial', \n",
    "              font_scale=1.3, \n",
    "              rc={\"lines.linewidth\": n, 'axes.linewidth':n, \n",
    "                                  \"xtick.major.width\":n,\"ytick.major.width\":n}, \n",
    "              palette = palette)\n",
    "sns.color_palette(colors)"
   ]
  },
  {
   "cell_type": "code",
   "execution_count": 31,
   "metadata": {},
   "outputs": [],
   "source": [
    "def monoexponential(x, A, k, B):\n",
    "    \"\"\"\n",
    "    Compute the value of a monoexponential function at point x.\n",
    "    \n",
    "    Args:\n",
    "        x (float): The input value.\n",
    "        A (float): Amplitude or initial value.\n",
    "        k (float): Decay constant or growth rate.\n",
    "    \n",
    "    Returns:\n",
    "        float: The value of the monoexponential function at point x.\n",
    "    \"\"\"\n",
    "    return B + (A * np.exp(-k * x))\n",
    "def fit_monoexponential_Yield(df, column=\"Conversion_1\"):\n",
    "    \"\"\"\n",
    "    Fit monoexponential curve to a specified column in the dataframe.\n",
    "    \n",
    "    Args:\n",
    "        df (pd.DataFrame): DataFrame containing 'time' and conversion data.\n",
    "        column (str): Column name for conversion data (e.g., 'Conversion_1' or 'Conversion_2').\n",
    "\n",
    "    Returns:\n",
    "        pd.DataFrame: Fitted parameters (A, k, B) and their uncertainties.\n",
    "    \"\"\"\n",
    "    t = df[\"time\"].values\n",
    "    y = df[column].values\n",
    "\n",
    "    # Initial guess: A=100, k=0.5, B=mean of final two values\n",
    "    p0 = [100, 0.5, y[-2:].mean()]\n",
    "\n",
    "    # Fit data to monoexponential function\n",
    "    popt, pcov = curve_fit(monoexponential, t, y, p0=p0)\n",
    "\n",
    "    # Calculate uncertainties\n",
    "    perr = np.sqrt(np.diag(pcov))\n",
    "\n",
    "    return pd.DataFrame({column: popt, f\"{column}_err\": perr}, index=[\"A\", \"k\", \"B\"])\n",
    "\n",
    "def fit_monoexponential_two_Azides_Yield(df):\n",
    "    t = df[\"time\"].values\n",
    "    azide1 = df[\"Conversion_1\"].values\n",
    "    azide2 = df[\"Conversion_2\"].values\n",
    "\n",
    "    # Fit data to monoexponential function\n",
    "    popt1, pcov1 = curve_fit(monoexponential, t, azide1, p0=[100, 0.5, azide1[-2:].mean()])\n",
    "    popt2, pcov2 = curve_fit(monoexponential, t, azide2, p0=[100, 0.5, azide2[-2:].mean()])\n",
    "\n",
    "    # Calculate uncertainties\n",
    "    perr1 = np.sqrt(np.diag(pcov1))\n",
    "    perr2 = np.sqrt(np.diag(pcov2))\n",
    "\n",
    "    return pd.DataFrame({\"Azide1\": popt1, \"Azide1_err\": perr1, \"Azide2\": popt2, \"Azide2_err\": perr2}, index=[\"A\", \"k\", \"B\"])\n",
    "\n"
   ]
  },
  {
   "cell_type": "code",
   "execution_count": 32,
   "metadata": {},
   "outputs": [],
   "source": [
    "df1 = pd.read_csv(\"Kinetics_KR_NaCl.csv\")\n"
   ]
  },
  {
   "cell_type": "code",
   "execution_count": 33,
   "metadata": {},
   "outputs": [
    {
     "data": {
      "text/plain": [
       "[Text(0.5, 0, ''),\n",
       " Text(0, 0.5, ''),\n",
       " [<matplotlib.axis.XTick at 0x7fecf9383460>,\n",
       "  <matplotlib.axis.XTick at 0x7fecf9383160>,\n",
       "  <matplotlib.axis.XTick at 0x7fecf964ed90>],\n",
       " [<matplotlib.axis.YTick at 0x7fecf9636580>,\n",
       "  <matplotlib.axis.YTick at 0x7fecf96363a0>,\n",
       "  <matplotlib.axis.YTick at 0x7fed1b8e9100>],\n",
       " (-10.0, 120.0)]"
      ]
     },
     "execution_count": 33,
     "metadata": {},
     "output_type": "execute_result"
    },
    {
     "data": {
      "image/png": "[encoded data removed]",
      "text/plain": [
       "<Figure size 225x225 with 1 Axes>"
      ]
     },
     "metadata": {},
     "output_type": "display_data"
    }
   ],
   "source": [
    "fit = fit_monoexponential_Yield(df1, column=\"Conversion_1\")\n",
    "x_sim = np.linspace(0, 17, 1000)\n",
    "y_sim = monoexponential(x_sim, fit[\"Conversion_1\"].iloc[0], fit[\"Conversion_1\"].iloc[1], fit[\"Conversion_1\"].iloc[2])\n",
    "\n",
    "fig, ax = plt.subplots(figsize = (2.25,2.25), dpi = 100)\n",
    "\n",
    "\n",
    "sns.scatterplot(data = df1, x = \"time\", y = \"Conversion_1\", ax = ax, \n",
    "            edgecolor = \"none\", s = 20, legend = False, \n",
    "            color = \"C4\", alpha = 0.7)\n",
    "\n",
    "ax.plot(x_sim, y_sim, c = \"C4\")\n",
    "sns.despine(fig, left=False, bottom=False)\n",
    "\n",
    "\n",
    "ax.set(xlabel = \"\", ylabel = \"\", xticks = np.linspace(0, 16, 3), yticks = np.linspace(0, 100, 3), ylim = (-10, 120))"
   ]
  },
  {
   "cell_type": "code",
   "execution_count": 35,
   "metadata": {},
   "outputs": [
    {
     "data": {
      "text/plain": [
       "[Text(0.5, 0, ''),\n",
       " Text(0, 0.5, ''),\n",
       " [<matplotlib.axis.XTick at 0x7fed29bcee50>,\n",
       "  <matplotlib.axis.XTick at 0x7fed29bceb20>,\n",
       "  <matplotlib.axis.XTick at 0x7fecf974f3d0>],\n",
       " [<matplotlib.axis.YTick at 0x7fed29bce6d0>,\n",
       "  <matplotlib.axis.YTick at 0x7fecf97300a0>,\n",
       "  <matplotlib.axis.YTick at 0x7fecf9660310>],\n",
       " (-10.0, 120.0)]"
      ]
     },
     "execution_count": 35,
     "metadata": {},
     "output_type": "execute_result"
    },
    {
     "data": {
      "image/png": "[encoded data removed]",
      "text/plain": [
       "<Figure size 225x225 with 1 Axes>"
      ]
     },
     "metadata": {},
     "output_type": "display_data"
    }
   ],
   "source": [
    "df2 = pd.read_csv(\"Kinetics_Cys_NaCl.csv\")\n",
    "fit = fit_monoexponential_Yield(df2, column=\"Conversion_2\")\n",
    "x_sim = np.linspace(0, 17, 1000)\n",
    "y_sim = monoexponential(x_sim, fit[\"Conversion_2\"].iloc[0], fit[\"Conversion_2\"].iloc[1], fit[\"Conversion_2\"].iloc[2])\n",
    "\n",
    "fig, ax = plt.subplots(figsize = (2.25,2.25), dpi = 100)\n",
    "\n",
    "\n",
    "sns.scatterplot(data = df2, x = \"time\", y = \"Conversion_2\", ax = ax, \n",
    "            edgecolor = \"none\", s = 20, legend = False, \n",
    "            color = \"C2\", alpha = 0.7)\n",
    "\n",
    "ax.plot(x_sim, y_sim, c = \"C2\")\n",
    "sns.despine(fig, left=False, bottom=False)\n",
    "\n",
    "\n",
    "ax.set(xlabel = \"\", ylabel = \"\", xticks = np.linspace(0, 16, 3), yticks = np.linspace(0, 100, 3), ylim = (-10, 120))\n"
   ]
  },
  {
   "cell_type": "code",
   "execution_count": 36,
   "metadata": {},
   "outputs": [
    {
     "data": {
      "text/plain": [
       "[Text(0.5, 0, ''),\n",
       " Text(0, 0.5, ''),\n",
       " [<matplotlib.axis.XTick at 0x7fecf97646a0>,\n",
       "  <matplotlib.axis.XTick at 0x7fecf97646d0>,\n",
       "  <matplotlib.axis.XTick at 0x7fed1abe18b0>],\n",
       " [<matplotlib.axis.YTick at 0x7fed1aba1c10>,\n",
       "  <matplotlib.axis.YTick at 0x7fed1aba83d0>,\n",
       "  <matplotlib.axis.YTick at 0x7fed1abead60>],\n",
       " (-10.0, 120.0)]"
      ]
     },
     "execution_count": 36,
     "metadata": {},
     "output_type": "execute_result"
    },
    {
     "data": {
      "image/png": "[encoded data removed]",
      "text/plain": [
       "<Figure size 225x225 with 1 Axes>"
      ]
     },
     "metadata": {},
     "output_type": "display_data"
    }
   ],
   "source": [
    "df3 = pd.read_csv(\"Kinetics_Cys_KR_NaCl.csv\")\n",
    "\n",
    "fit = fit_monoexponential_two_Azides_Yield(df3)\n",
    "x_sim = np.linspace(0, 17, 1000)\n",
    "y_sim = monoexponential(x_sim, fit[\"Azide1\"].iloc[0], fit[\"Azide1\"].iloc[1], fit[\"Azide1\"].iloc[2])\n",
    "y_sim2 = monoexponential(x_sim, fit[\"Azide2\"].iloc[0], fit[\"Azide2\"].iloc[1], fit[\"Azide2\"].iloc[2])    \n",
    "\n",
    "fig, ax = plt.subplots(figsize = (2.25,2.25), dpi = 100)\n",
    "\n",
    "\n",
    "sns.scatterplot(data = df3, x = \"time\", y = \"Conversion_1\", ax = ax, \n",
    "            edgecolor = \"none\", s = 20, legend = False, \n",
    "            color = \"C4\", alpha = 0.7)\n",
    "\n",
    "sns.scatterplot(data = df3, x = \"time\", y = \"Conversion_2\", ax = ax, \n",
    "            edgecolor = \"none\", s = 20, legend = False, \n",
    "            color = \"C2\", alpha = 0.7)\n",
    "\n",
    "\n",
    "ax.plot(x_sim, y_sim, c = \"C4\")\n",
    "ax.plot(x_sim, y_sim2, c = \"C2\")\n",
    "sns.despine(fig, left=False, bottom=False)\n",
    "\n",
    "\n",
    "ax.set(xlabel = \"\", ylabel = \"\", xticks = np.linspace(0, 16, 3), yticks = np.linspace(0, 100, 3), ylim = (-10, 120))"
   ]
  },
  {
   "cell_type": "code",
   "execution_count": null,
   "metadata": {},
   "outputs": [],
   "source": []
  }
 ],
 "metadata": {
  "kernelspec": {
   "display_name": "Munich",
   "language": "python",
   "name": "python3"
  },
  "language_info": {
   "codemirror_mode": {
    "name": "ipython",
    "version": 3
   },
   "file_extension": ".py",
   "mimetype": "text/x-python",
   "name": "python",
   "nbconvert_exporter": "python",
   "pygments_lexer": "ipython3",
   "version": "3.9.15"
  }
 },
 "nbformat": 4,
 "nbformat_minor": 2
}
